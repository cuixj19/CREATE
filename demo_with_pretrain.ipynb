{
 "cells": [
  {
   "cell_type": "code",
   "execution_count": 1,
   "metadata": {},
   "outputs": [],
   "source": [
    "import numpy as np\n",
    "import torch\n",
    "import torch.nn.functional as F\n",
    "from torch.utils.data import DataLoader, TensorDataset\n",
    "\n",
    "import warnings\n",
    "warnings.filterwarnings(\"ignore\")\n",
    "\n",
    "import os\n",
    "os.environ[\"CUDA_DEVICE_ORDER\"] = \"PCI_BUS_ID\"\n",
    "os.environ[\"CUDA_VISIBLE_DEVICES\"] = \"0\""
   ]
  },
  {
   "cell_type": "markdown",
   "metadata": {},
   "source": [
    "# Load the pretrained model"
   ]
  },
  {
   "cell_type": "code",
   "execution_count": 2,
   "metadata": {},
   "outputs": [],
   "source": [
    "multi = ['seq','open','loop'] #Multimodal data used as input in the model\n",
    "pretrain = './pth/pretrain_%s.pth' % ('+'.join(multi)) #Path of pretrained model\n",
    "channel1 = 128 * (len(multi)+1) if 'seq' in multi else 128 * len(multi)"
   ]
  },
  {
   "cell_type": "code",
   "execution_count": 3,
   "metadata": {
    "scrolled": true
   },
   "outputs": [
    {
     "data": {
      "text/plain": [
       "create(\n",
       "  (vqvae): VQVAE(\n",
       "    (enc1): Encoder1(\n",
       "      (conv1): Sequential(\n",
       "        (0): Conv1d(4, 256, kernel_size=(8,), stride=(1,))\n",
       "        (1): ReLU(inplace=True)\n",
       "        (2): MaxPool1d(kernel_size=5, stride=4, padding=0, dilation=1, ceil_mode=False)\n",
       "        (3): Dropout(p=0.1, inplace=False)\n",
       "      )\n",
       "      (layernorm1): LayerNorm((256,), eps=1e-05, elementwise_affine=True)\n",
       "      (conv11): Sequential(\n",
       "        (0): Conv1d(1, 128, kernel_size=(8,), stride=(1,))\n",
       "        (1): ReLU(inplace=True)\n",
       "        (2): MaxPool1d(kernel_size=5, stride=4, padding=0, dilation=1, ceil_mode=False)\n",
       "        (3): Dropout(p=0.1, inplace=False)\n",
       "      )\n",
       "      (layernorm11): LayerNorm((128,), eps=1e-05, elementwise_affine=True)\n",
       "      (conv12): Sequential(\n",
       "        (0): Conv1d(1, 128, kernel_size=(8,), stride=(1,))\n",
       "        (1): ReLU(inplace=True)\n",
       "        (2): MaxPool1d(kernel_size=5, stride=4, padding=0, dilation=1, ceil_mode=False)\n",
       "        (3): Dropout(p=0.1, inplace=False)\n",
       "      )\n",
       "      (layernorm12): LayerNorm((128,), eps=1e-05, elementwise_affine=True)\n",
       "      (conv): Sequential(\n",
       "        (0): Conv1d(512, 512, kernel_size=(1,), stride=(1,))\n",
       "        (1): ReLU(inplace=True)\n",
       "        (2): Dropout(p=0.5, inplace=False)\n",
       "      )\n",
       "    )\n",
       "    (enc2): Encoder2(\n",
       "      (conv2): Sequential(\n",
       "        (0): Conv1d(512, 384, kernel_size=(8,), stride=(1,))\n",
       "        (1): ReLU(inplace=True)\n",
       "        (2): MaxPool1d(kernel_size=4, stride=4, padding=0, dilation=1, ceil_mode=False)\n",
       "        (3): Dropout(p=0.5, inplace=False)\n",
       "      )\n",
       "    )\n",
       "    (enc3): Encoder3(\n",
       "      (conv3): Sequential(\n",
       "        (0): Conv1d(384, 128, kernel_size=(8,), stride=(1,))\n",
       "        (1): ReLU(inplace=True)\n",
       "        (2): MaxPool1d(kernel_size=2, stride=2, padding=0, dilation=1, ceil_mode=False)\n",
       "        (3): Dropout(p=0.5, inplace=False)\n",
       "      )\n",
       "    )\n",
       "    (quantize3): split_quant(\n",
       "      (quantize_conv3): Conv1d(128, 128, kernel_size=(1,), stride=(1,))\n",
       "      (vq): VectorQuantizerEMA(\n",
       "        (_embedding): Embedding(200, 8)\n",
       "      )\n",
       "    )\n",
       "    (dec3): Decoder3(\n",
       "      (convt3): Sequential(\n",
       "        (0): Upsample(scale_factor=2.0, mode=linear)\n",
       "        (1): ConvTranspose1d(128, 200, kernel_size=(9,), stride=(1,))\n",
       "        (2): ReLU(inplace=True)\n",
       "      )\n",
       "    )\n",
       "    (dec2): Decoder2(\n",
       "      (convt2): Sequential(\n",
       "        (0): Upsample(scale_factor=4.0, mode=linear)\n",
       "        (1): ConvTranspose1d(200, 200, kernel_size=(9,), stride=(1,))\n",
       "        (2): ReLU(inplace=True)\n",
       "      )\n",
       "    )\n",
       "    (dec1): Decoder1(\n",
       "      (convt1): Sequential(\n",
       "        (0): Upsample(scale_factor=4.0, mode=linear)\n",
       "        (1): ConvTranspose1d(200, 4, kernel_size=(9,), stride=(1,))\n",
       "        (2): BatchNorm1d(4, eps=1e-05, momentum=0.1, affine=True, track_running_stats=True)\n",
       "        (3): Sigmoid()\n",
       "      )\n",
       "      (convt11): Sequential(\n",
       "        (0): Upsample(scale_factor=4.0, mode=linear)\n",
       "        (1): ConvTranspose1d(200, 1, kernel_size=(9,), stride=(1,))\n",
       "        (2): ReLU(inplace=True)\n",
       "      )\n",
       "      (convt12): Sequential(\n",
       "        (0): Upsample(scale_factor=4.0, mode=linear)\n",
       "        (1): ConvTranspose1d(200, 1, kernel_size=(9,), stride=(1,))\n",
       "        (2): ReLU(inplace=True)\n",
       "      )\n",
       "    )\n",
       "  )\n",
       "  (fc): Sequential(\n",
       "    (0): Dropout(p=0.5, inplace=False)\n",
       "    (1): Linear(in_features=3328, out_features=1024, bias=True)\n",
       "    (2): ReLU(inplace=True)\n",
       "    (3): Dropout(p=0.5, inplace=False)\n",
       "    (4): Linear(in_features=1024, out_features=512, bias=True)\n",
       "    (5): ReLU(inplace=True)\n",
       "    (6): Dropout(p=0.5, inplace=False)\n",
       "    (7): Linear(in_features=512, out_features=5, bias=True)\n",
       "  )\n",
       "  (activation0): Sigmoid()\n",
       ")"
      ]
     },
     "execution_count": 3,
     "metadata": {},
     "output_type": "execute_result"
    }
   ],
   "source": [
    "import create\n",
    "clf = create.model.layer.create(multi=multi, channel1=channel1).cuda()\n",
    "checkpoint = torch.load(pretrain)\n",
    "clf.load_state_dict(checkpoint['model'])\n",
    "clf.eval()"
   ]
  },
  {
   "cell_type": "markdown",
   "metadata": {},
   "source": [
    "# Predicted for novel regions"
   ]
  },
  {
   "cell_type": "code",
   "execution_count": 4,
   "metadata": {},
   "outputs": [
    {
     "name": "stdout",
     "output_type": "stream",
     "text": [
      "The shape of input data: (6, 1000)\n"
     ]
    }
   ],
   "source": [
    "data_path = './example/'\n",
    "test_data = []\n",
    "if 'seq' in multi:\n",
    "    test_data.append(np.load(data_path+'test_seqs.npy'))\n",
    "if 'open' in multi:\n",
    "    test_data.append(np.load(data_path+'test_opens.npy'))\n",
    "if 'loop' in multi:\n",
    "    test_data.append(np.load(data_path+'test_loops.npy'))\n",
    "test_data = np.concatenate(test_data, axis=1)\n",
    "test_set = TensorDataset(torch.Tensor(test_data))\n",
    "test_loader = DataLoader(test_set, batch_size=1024, shuffle=False)\n",
    "print('The shape of input data: {}'.format(test_data.shape[1:]))"
   ]
  },
  {
   "cell_type": "code",
   "execution_count": 5,
   "metadata": {
    "scrolled": true
   },
   "outputs": [],
   "source": [
    "test_score = []\n",
    "for _, b_x0 in enumerate(test_loader):\n",
    "    output, _, _, _, _, _ = clf(b_x0[0].cuda())\n",
    "    test_score.extend(F.softmax(output, 1).cpu().detach().numpy())\n",
    "test_score = np.array(test_score)\n",
    "test_pre = [list(x).index(max(x)) for x in test_score]"
   ]
  },
  {
   "cell_type": "code",
   "execution_count": 6,
   "metadata": {},
   "outputs": [
    {
     "data": {
      "text/plain": [
       "Counter({0: 211, 1: 207, 2: 200, 3: 198, 4: 184})"
      ]
     },
     "execution_count": 6,
     "metadata": {},
     "output_type": "execute_result"
    }
   ],
   "source": [
    "from collections import Counter\n",
    "Counter(test_pre)"
   ]
  },
  {
   "cell_type": "code",
   "execution_count": null,
   "metadata": {},
   "outputs": [],
   "source": []
  }
 ],
 "metadata": {
  "kernelspec": {
   "display_name": "torch1.10",
   "language": "python",
   "name": "torch1.10"
  },
  "language_info": {
   "codemirror_mode": {
    "name": "ipython",
    "version": 3
   },
   "file_extension": ".py",
   "mimetype": "text/x-python",
   "name": "python",
   "nbconvert_exporter": "python",
   "pygments_lexer": "ipython3",
   "version": "3.7.12"
  }
 },
 "nbformat": 4,
 "nbformat_minor": 2
}
