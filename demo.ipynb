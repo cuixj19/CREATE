{
 "cells": [
  {
   "cell_type": "code",
   "execution_count": 1,
   "metadata": {},
   "outputs": [],
   "source": [
    "import numpy as np\n",
    "import pandas as pd\n",
    "from sklearn import metrics\n",
    "import seaborn as sns\n",
    "import matplotlib.pyplot as plt\n",
    "\n",
    "import warnings\n",
    "warnings.filterwarnings(\"ignore\")\n",
    "\n",
    "import os\n",
    "os.environ[\"CUDA_DEVICE_ORDER\"] = \"PCI_BUS_ID\"\n",
    "os.environ[\"CUDA_VISIBLE_DEVICES\"] = \"0\""
   ]
  },
  {
   "cell_type": "code",
   "execution_count": 2,
   "metadata": {
    "scrolled": true
   },
   "outputs": [
    {
     "name": "stderr",
     "output_type": "stream",
     "text": [
      "2024-07-13 19:17:45,634 - root - INFO - Using GPU: 0\n",
      "2024-07-13 19:17:45,636 - root - INFO - Use data: seq+open+loop\n",
      "2024-07-13 19:17:45,641 - root - INFO - No.train=8000, No.valid=1000, No.test=1000\n",
      "2024-07-13 19:17:45,916 - root - INFO - The shape of input data: (6, 1000)\n",
      "2024-07-13 19:17:52,701 - root - INFO - Data loading completed!\n",
      "2024-07-13 19:17:52,745 - root - INFO - Model training...\n",
      "Epochs:  17%|█▋        | 50/300 [10:51<53:16, 12.79s/it, recon=0.676, latent=0.014, clf=1.593, perplexity=129.980]"
     ]
    },
    {
     "name": "stdout",
     "output_type": "stream",
     "text": [
      "Train accuracy: 0.343294\n",
      "Train auROC: 0.683412\n",
      "Train auPRC: 0.381781\n",
      "Valid accuracy: 0.526000\n",
      "Valid auROC: 0.829222\n",
      "Valid auPRC: 0.621421\n",
      "Test accuracy: 0.518000\n",
      "Test auROC: 0.821989\n",
      "Test auPRC: 0.611983\n"
     ]
    },
    {
     "name": "stderr",
     "output_type": "stream",
     "text": [
      "Epochs:  17%|█▋        | 51/300 [11:04<53:38, 12.93s/it, recon=0.684, latent=0.064, clf=1.288, perplexity=167.836]"
     ]
    },
    {
     "name": "stdout",
     "output_type": "stream",
     "text": [
      "Train accuracy: 0.509766\n",
      "Train auROC: 0.796560\n",
      "Train auPRC: 0.532817\n",
      "Valid accuracy: 0.611000\n",
      "Valid auROC: 0.869609\n",
      "Valid auPRC: 0.688461\n",
      "Test accuracy: 0.561000\n",
      "Test auROC: 0.856345\n",
      "Test auPRC: 0.656379\n"
     ]
    },
    {
     "name": "stderr",
     "output_type": "stream",
     "text": [
      "Epochs:  17%|█▋        | 52/300 [11:17<53:49, 13.02s/it, recon=0.681, latent=0.038, clf=1.157, perplexity=182.441]"
     ]
    },
    {
     "name": "stdout",
     "output_type": "stream",
     "text": [
      "Train accuracy: 0.585091\n",
      "Train auROC: 0.846355\n",
      "Train auPRC: 0.622687\n",
      "Valid accuracy: 0.678000\n",
      "Valid auROC: 0.893150\n",
      "Valid auPRC: 0.722283\n",
      "Test accuracy: 0.633000\n",
      "Test auROC: 0.879499\n",
      "Test auPRC: 0.693551\n"
     ]
    },
    {
     "name": "stderr",
     "output_type": "stream",
     "text": [
      "Epochs:  18%|█▊        | 53/300 [11:31<53:57, 13.11s/it, recon=0.680, latent=0.038, clf=1.052, perplexity=186.193]"
     ]
    },
    {
     "name": "stdout",
     "output_type": "stream",
     "text": [
      "Train accuracy: 0.636589\n",
      "Train auROC: 0.872281\n",
      "Train auPRC: 0.669967\n",
      "Valid accuracy: 0.693000\n",
      "Valid auROC: 0.903197\n",
      "Valid auPRC: 0.741553\n",
      "Test accuracy: 0.657000\n",
      "Test auROC: 0.889269\n",
      "Test auPRC: 0.711688\n"
     ]
    },
    {
     "name": "stderr",
     "output_type": "stream",
     "text": [
      "Epochs:  18%|█▊        | 54/300 [11:44<53:57, 13.16s/it, recon=0.678, latent=0.032, clf=1.018, perplexity=186.324]"
     ]
    },
    {
     "name": "stdout",
     "output_type": "stream",
     "text": [
      "Train accuracy: 0.649870\n",
      "Train auROC: 0.879907\n",
      "Train auPRC: 0.687701\n",
      "Valid accuracy: 0.698000\n",
      "Valid auROC: 0.909188\n",
      "Valid auPRC: 0.752118\n",
      "Test accuracy: 0.673000\n",
      "Test auROC: 0.899749\n",
      "Test auPRC: 0.734885\n"
     ]
    },
    {
     "name": "stderr",
     "output_type": "stream",
     "text": [
      "Epochs:  18%|█▊        | 55/300 [11:57<53:55, 13.20s/it, recon=0.678, latent=0.031, clf=0.998, perplexity=186.550]"
     ]
    },
    {
     "name": "stdout",
     "output_type": "stream",
     "text": [
      "Train accuracy: 0.658594\n",
      "Train auROC: 0.885205\n",
      "Train auPRC: 0.699905\n",
      "Valid accuracy: 0.712000\n",
      "Valid auROC: 0.911473\n",
      "Valid auPRC: 0.758951\n",
      "Test accuracy: 0.671000\n",
      "Test auROC: 0.900569\n",
      "Test auPRC: 0.737931\n"
     ]
    },
    {
     "name": "stderr",
     "output_type": "stream",
     "text": [
      "Epochs:  19%|█▊        | 56/300 [12:11<53:50, 13.24s/it, recon=0.678, latent=0.030, clf=0.986, perplexity=187.347]"
     ]
    },
    {
     "name": "stdout",
     "output_type": "stream",
     "text": [
      "Train accuracy: 0.665625\n",
      "Train auROC: 0.889141\n",
      "Train auPRC: 0.708383\n",
      "Valid accuracy: 0.712000\n",
      "Valid auROC: 0.914712\n",
      "Valid auPRC: 0.765082\n",
      "Test accuracy: 0.681000\n",
      "Test auROC: 0.905441\n",
      "Test auPRC: 0.749627\n"
     ]
    },
    {
     "name": "stderr",
     "output_type": "stream",
     "text": [
      "Epochs:  19%|█▉        | 58/300 [12:26<53:14, 13.20s/it, recon=0.677, latent=0.028, clf=0.972, perplexity=187.720]"
     ]
    },
    {
     "name": "stdout",
     "output_type": "stream",
     "text": [
      "Train accuracy: 0.673828\n",
      "Train auROC: 0.892639\n",
      "Train auPRC: 0.716055\n",
      "Valid accuracy: 0.716000\n",
      "Valid auROC: 0.915531\n",
      "Valid auPRC: 0.764495\n",
      "Test accuracy: 0.687000\n",
      "Test auROC: 0.907300\n",
      "Test auPRC: 0.751984\n"
     ]
    },
    {
     "name": "stderr",
     "output_type": "stream",
     "text": [
      "\r",
      "Epochs:  19%|█▉        | 58/300 [12:37<53:14, 13.20s/it, recon=0.677, latent=0.029, clf=0.967, perplexity=188.175]"
     ]
    },
    {
     "name": "stdout",
     "output_type": "stream",
     "text": [
      "Train accuracy: 0.672135\n",
      "Train auROC: 0.893284\n",
      "Train auPRC: 0.719872\n",
      "Valid accuracy: 0.727000\n",
      "Valid auROC: 0.916998\n",
      "Valid auPRC: 0.770539\n",
      "Test accuracy: 0.687000\n",
      "Test auROC: 0.908610\n",
      "Test auPRC: 0.755511\n"
     ]
    },
    {
     "name": "stderr",
     "output_type": "stream",
     "text": [
      "Epochs:  20%|█▉        | 59/300 [12:50<53:07, 13.23s/it, recon=0.676, latent=0.028, clf=0.954, perplexity=187.601]"
     ]
    },
    {
     "name": "stdout",
     "output_type": "stream",
     "text": [
      "Train accuracy: 0.673112\n",
      "Train auROC: 0.896289\n",
      "Train auPRC: 0.724022\n",
      "Valid accuracy: 0.723000\n",
      "Valid auROC: 0.917522\n",
      "Valid auPRC: 0.770667\n",
      "Test accuracy: 0.691000\n",
      "Test auROC: 0.909910\n",
      "Test auPRC: 0.758857\n"
     ]
    },
    {
     "name": "stderr",
     "output_type": "stream",
     "text": [
      "Epochs:  20%|██        | 60/300 [13:04<53:02, 13.26s/it, recon=0.678, latent=0.026, clf=0.952, perplexity=185.745]"
     ]
    },
    {
     "name": "stdout",
     "output_type": "stream",
     "text": [
      "Train accuracy: 0.676302\n",
      "Train auROC: 0.897199\n",
      "Train auPRC: 0.727333\n",
      "Valid accuracy: 0.726000\n",
      "Valid auROC: 0.918393\n",
      "Valid auPRC: 0.773466\n",
      "Test accuracy: 0.688000\n",
      "Test auROC: 0.909992\n",
      "Test auPRC: 0.760011\n"
     ]
    },
    {
     "name": "stderr",
     "output_type": "stream",
     "text": [
      "Epochs:  21%|██        | 62/300 [13:19<52:26, 13.22s/it, recon=0.676, latent=0.026, clf=0.947, perplexity=184.900]"
     ]
    },
    {
     "name": "stdout",
     "output_type": "stream",
     "text": [
      "Train accuracy: 0.680859\n",
      "Train auROC: 0.897932\n",
      "Train auPRC: 0.729793\n",
      "Valid accuracy: 0.725000\n",
      "Valid auROC: 0.917564\n",
      "Valid auPRC: 0.772368\n",
      "Test accuracy: 0.673000\n",
      "Test auROC: 0.908259\n",
      "Test auPRC: 0.759471\n"
     ]
    },
    {
     "name": "stderr",
     "output_type": "stream",
     "text": [
      "\r",
      "Epochs:  21%|██        | 62/300 [13:30<52:26, 13.22s/it, recon=0.676, latent=0.025, clf=0.945, perplexity=182.733]"
     ]
    },
    {
     "name": "stdout",
     "output_type": "stream",
     "text": [
      "Train accuracy: 0.682292\n",
      "Train auROC: 0.898555\n",
      "Train auPRC: 0.731418\n",
      "Valid accuracy: 0.727000\n",
      "Valid auROC: 0.919629\n",
      "Valid auPRC: 0.777213\n",
      "Test accuracy: 0.698000\n",
      "Test auROC: 0.910997\n",
      "Test auPRC: 0.766303\n"
     ]
    },
    {
     "name": "stderr",
     "output_type": "stream",
     "text": [
      "Epochs:  21%|██▏       | 64/300 [13:46<51:48, 13.17s/it, recon=0.676, latent=0.024, clf=0.936, perplexity=181.189]"
     ]
    },
    {
     "name": "stdout",
     "output_type": "stream",
     "text": [
      "Train accuracy: 0.682227\n",
      "Train auROC: 0.900624\n",
      "Train auPRC: 0.735834\n",
      "Valid accuracy: 0.727000\n",
      "Valid auROC: 0.919495\n",
      "Valid auPRC: 0.774473\n",
      "Test accuracy: 0.691000\n",
      "Test auROC: 0.913344\n",
      "Test auPRC: 0.769806\n"
     ]
    },
    {
     "name": "stderr",
     "output_type": "stream",
     "text": [
      "Epochs:  22%|██▏       | 65/300 [13:59<51:24, 13.12s/it, recon=0.675, latent=0.024, clf=0.936, perplexity=181.624]"
     ]
    },
    {
     "name": "stdout",
     "output_type": "stream",
     "text": [
      "Train accuracy: 0.683268\n",
      "Train auROC: 0.900553\n",
      "Train auPRC: 0.735363\n",
      "Valid accuracy: 0.730000\n",
      "Valid auROC: 0.919717\n",
      "Valid auPRC: 0.776022\n",
      "Test accuracy: 0.698000\n",
      "Test auROC: 0.912725\n",
      "Test auPRC: 0.769149\n"
     ]
    },
    {
     "name": "stderr",
     "output_type": "stream",
     "text": [
      "Epochs:  22%|██▏       | 66/300 [14:12<51:05, 13.10s/it, recon=0.675, latent=0.023, clf=0.930, perplexity=179.872]"
     ]
    },
    {
     "name": "stdout",
     "output_type": "stream",
     "text": [
      "Train accuracy: 0.682552\n",
      "Train auROC: 0.901814\n",
      "Train auPRC: 0.739097\n",
      "Valid accuracy: 0.723000\n",
      "Valid auROC: 0.920337\n",
      "Valid auPRC: 0.776821\n",
      "Test accuracy: 0.697000\n",
      "Test auROC: 0.913828\n",
      "Test auPRC: 0.771571\n"
     ]
    },
    {
     "name": "stderr",
     "output_type": "stream",
     "text": [
      "\r",
      "Epochs:  22%|██▏       | 66/300 [14:22<51:05, 13.10s/it, recon=0.675, latent=0.023, clf=0.923, perplexity=179.108]"
     ]
    },
    {
     "name": "stdout",
     "output_type": "stream",
     "text": [
      "Train accuracy: 0.687956\n",
      "Train auROC: 0.903097\n",
      "Train auPRC: 0.740772\n",
      "Valid accuracy: 0.724000\n",
      "Valid auROC: 0.920665\n",
      "Valid auPRC: 0.778525\n",
      "Test accuracy: 0.710000\n",
      "Test auROC: 0.913787\n",
      "Test auPRC: 0.771161\n"
     ]
    },
    {
     "name": "stderr",
     "output_type": "stream",
     "text": [
      "Epochs:  22%|██▏       | 67/300 [14:36<51:04, 13.15s/it, recon=0.674, latent=0.023, clf=0.919, perplexity=178.210]"
     ]
    },
    {
     "name": "stdout",
     "output_type": "stream",
     "text": [
      "Train accuracy: 0.692448\n",
      "Train auROC: 0.904625\n",
      "Train auPRC: 0.745633\n",
      "Valid accuracy: 0.729000\n",
      "Valid auROC: 0.920645\n",
      "Valid auPRC: 0.778636\n",
      "Test accuracy: 0.702000\n",
      "Test auROC: 0.913050\n",
      "Test auPRC: 0.769803\n"
     ]
    },
    {
     "name": "stderr",
     "output_type": "stream",
     "text": [
      "Epochs:  23%|██▎       | 68/300 [14:49<50:59, 13.19s/it, recon=0.674, latent=0.023, clf=0.915, perplexity=177.758]"
     ]
    },
    {
     "name": "stdout",
     "output_type": "stream",
     "text": [
      "Train accuracy: 0.689388\n",
      "Train auROC: 0.905211\n",
      "Train auPRC: 0.747485\n",
      "Valid accuracy: 0.733000\n",
      "Valid auROC: 0.921392\n",
      "Valid auPRC: 0.779888\n",
      "Test accuracy: 0.696000\n",
      "Test auROC: 0.913791\n",
      "Test auPRC: 0.771092\n"
     ]
    },
    {
     "name": "stderr",
     "output_type": "stream",
     "text": [
      "Epochs:  23%|██▎       | 70/300 [15:04<50:21, 13.14s/it, recon=0.674, latent=0.023, clf=0.902, perplexity=178.213]"
     ]
    },
    {
     "name": "stdout",
     "output_type": "stream",
     "text": [
      "Train accuracy: 0.692839\n",
      "Train auROC: 0.907831\n",
      "Train auPRC: 0.755136\n",
      "Valid accuracy: 0.732000\n",
      "Valid auROC: 0.921266\n",
      "Valid auPRC: 0.777630\n",
      "Test accuracy: 0.710000\n",
      "Test auROC: 0.916230\n",
      "Test auPRC: 0.776418\n"
     ]
    },
    {
     "name": "stderr",
     "output_type": "stream",
     "text": [
      "Epochs:  24%|██▎       | 71/300 [15:18<50:00, 13.10s/it, recon=0.674, latent=0.023, clf=0.905, perplexity=176.374]"
     ]
    },
    {
     "name": "stdout",
     "output_type": "stream",
     "text": [
      "Train accuracy: 0.695508\n",
      "Train auROC: 0.907258\n",
      "Train auPRC: 0.750697\n",
      "Valid accuracy: 0.735000\n",
      "Valid auROC: 0.921723\n",
      "Valid auPRC: 0.779169\n",
      "Test accuracy: 0.708000\n",
      "Test auROC: 0.916746\n",
      "Test auPRC: 0.777003\n"
     ]
    },
    {
     "name": "stderr",
     "output_type": "stream",
     "text": [
      "Epochs:  24%|██▍       | 72/300 [15:30<49:39, 13.07s/it, recon=0.673, latent=0.022, clf=0.897, perplexity=173.398]"
     ]
    },
    {
     "name": "stdout",
     "output_type": "stream",
     "text": [
      "Train accuracy: 0.692187\n",
      "Train auROC: 0.909085\n",
      "Train auPRC: 0.755050\n",
      "Valid accuracy: 0.737000\n",
      "Valid auROC: 0.921461\n",
      "Valid auPRC: 0.778493\n",
      "Test accuracy: 0.696000\n",
      "Test auROC: 0.914449\n",
      "Test auPRC: 0.774308\n"
     ]
    },
    {
     "name": "stderr",
     "output_type": "stream",
     "text": [
      "\r",
      "Epochs:  24%|██▍       | 72/300 [15:41<49:39, 13.07s/it, recon=0.673, latent=0.023, clf=0.897, perplexity=174.856]"
     ]
    },
    {
     "name": "stdout",
     "output_type": "stream",
     "text": [
      "Train accuracy: 0.694661\n",
      "Train auROC: 0.909102\n",
      "Train auPRC: 0.755670\n",
      "Valid accuracy: 0.730000\n",
      "Valid auROC: 0.921731\n",
      "Valid auPRC: 0.782239\n",
      "Test accuracy: 0.706000\n",
      "Test auROC: 0.915277\n",
      "Test auPRC: 0.775780\n"
     ]
    },
    {
     "name": "stderr",
     "output_type": "stream",
     "text": [
      "Epochs:  25%|██▍       | 74/300 [15:57<49:19, 13.09s/it, recon=0.673, latent=0.021, clf=0.898, perplexity=171.062]"
     ]
    },
    {
     "name": "stdout",
     "output_type": "stream",
     "text": [
      "Train accuracy: 0.697917\n",
      "Train auROC: 0.909033\n",
      "Train auPRC: 0.756498\n",
      "Valid accuracy: 0.735000\n",
      "Valid auROC: 0.920904\n",
      "Valid auPRC: 0.778771\n",
      "Test accuracy: 0.703000\n",
      "Test auROC: 0.915885\n",
      "Test auPRC: 0.776961\n"
     ]
    },
    {
     "name": "stderr",
     "output_type": "stream",
     "text": [
      "\r",
      "Epochs:  25%|██▍       | 74/300 [16:07<49:19, 13.09s/it, recon=0.673, latent=0.021, clf=0.898, perplexity=171.141]"
     ]
    },
    {
     "name": "stdout",
     "output_type": "stream",
     "text": [
      "Train accuracy: 0.697331\n",
      "Train auROC: 0.908730\n",
      "Train auPRC: 0.755202\n",
      "Valid accuracy: 0.739000\n",
      "Valid auROC: 0.922291\n",
      "Valid auPRC: 0.784020\n",
      "Test accuracy: 0.701000\n",
      "Test auROC: 0.915504\n",
      "Test auPRC: 0.776427\n"
     ]
    },
    {
     "name": "stderr",
     "output_type": "stream",
     "text": [
      "Epochs:  25%|██▌       | 76/300 [16:23<48:55, 13.10s/it, recon=0.672, latent=0.021, clf=0.895, perplexity=169.484]"
     ]
    },
    {
     "name": "stdout",
     "output_type": "stream",
     "text": [
      "Train accuracy: 0.695964\n",
      "Train auROC: 0.909650\n",
      "Train auPRC: 0.758776\n",
      "Valid accuracy: 0.735000\n",
      "Valid auROC: 0.922059\n",
      "Valid auPRC: 0.781098\n",
      "Test accuracy: 0.718000\n",
      "Test auROC: 0.917920\n",
      "Test auPRC: 0.780640\n"
     ]
    },
    {
     "name": "stderr",
     "output_type": "stream",
     "text": [
      "Epochs:  26%|██▌       | 77/300 [16:36<48:33, 13.07s/it, recon=0.673, latent=0.022, clf=0.892, perplexity=170.797]"
     ]
    },
    {
     "name": "stdout",
     "output_type": "stream",
     "text": [
      "Train accuracy: 0.697461\n",
      "Train auROC: 0.910397\n",
      "Train auPRC: 0.758178\n",
      "Valid accuracy: 0.735000\n",
      "Valid auROC: 0.922037\n",
      "Valid auPRC: 0.780167\n",
      "Test accuracy: 0.710000\n",
      "Test auROC: 0.916950\n",
      "Test auPRC: 0.779802\n"
     ]
    },
    {
     "name": "stderr",
     "output_type": "stream",
     "text": [
      "Epochs:  26%|██▌       | 78/300 [16:49<48:19, 13.06s/it, recon=0.672, latent=0.022, clf=0.888, perplexity=171.493]"
     ]
    },
    {
     "name": "stdout",
     "output_type": "stream",
     "text": [
      "Train accuracy: 0.698177\n",
      "Train auROC: 0.911125\n",
      "Train auPRC: 0.759766\n",
      "Valid accuracy: 0.739000\n",
      "Valid auROC: 0.922671\n",
      "Valid auPRC: 0.783883\n",
      "Test accuracy: 0.714000\n",
      "Test auROC: 0.918025\n",
      "Test auPRC: 0.781495\n"
     ]
    },
    {
     "name": "stderr",
     "output_type": "stream",
     "text": [
      "Epochs:  26%|██▋       | 79/300 [17:02<48:01, 13.04s/it, recon=0.672, latent=0.022, clf=0.881, perplexity=168.565]"
     ]
    },
    {
     "name": "stdout",
     "output_type": "stream",
     "text": [
      "Train accuracy: 0.703971\n",
      "Train auROC: 0.912262\n",
      "Train auPRC: 0.763389\n",
      "Valid accuracy: 0.738000\n",
      "Valid auROC: 0.921046\n",
      "Valid auPRC: 0.780275\n",
      "Test accuracy: 0.698000\n",
      "Test auROC: 0.916579\n",
      "Test auPRC: 0.778375\n"
     ]
    },
    {
     "name": "stderr",
     "output_type": "stream",
     "text": [
      "Epochs:  27%|██▋       | 80/300 [17:15<47:42, 13.01s/it, recon=0.672, latent=0.021, clf=0.886, perplexity=168.311]"
     ]
    },
    {
     "name": "stdout",
     "output_type": "stream",
     "text": [
      "Train accuracy: 0.703125\n",
      "Train auROC: 0.911552\n",
      "Train auPRC: 0.763208\n",
      "Valid accuracy: 0.708000\n",
      "Valid auROC: 0.920465\n",
      "Valid auPRC: 0.781920\n",
      "Test accuracy: 0.688000\n",
      "Test auROC: 0.914865\n",
      "Test auPRC: 0.773729\n"
     ]
    },
    {
     "name": "stderr",
     "output_type": "stream",
     "text": [
      "Epochs:  27%|██▋       | 81/300 [17:28<47:32, 13.02s/it, recon=0.671, latent=0.022, clf=0.880, perplexity=168.067]"
     ]
    },
    {
     "name": "stdout",
     "output_type": "stream",
     "text": [
      "Train accuracy: 0.707292\n",
      "Train auROC: 0.912469\n",
      "Train auPRC: 0.764061\n",
      "Valid accuracy: 0.736000\n",
      "Valid auROC: 0.921766\n",
      "Valid auPRC: 0.780219\n",
      "Test accuracy: 0.705000\n",
      "Test auROC: 0.918000\n",
      "Test auPRC: 0.781701\n"
     ]
    },
    {
     "name": "stderr",
     "output_type": "stream",
     "text": [
      "Epochs:  27%|██▋       | 82/300 [17:41<47:22, 13.04s/it, recon=0.671, latent=0.021, clf=0.876, perplexity=166.639]"
     ]
    },
    {
     "name": "stdout",
     "output_type": "stream",
     "text": [
      "Train accuracy: 0.705924\n",
      "Train auROC: 0.913696\n",
      "Train auPRC: 0.767898\n",
      "Valid accuracy: 0.739000\n",
      "Valid auROC: 0.922589\n",
      "Valid auPRC: 0.782480\n",
      "Test accuracy: 0.706000\n",
      "Test auROC: 0.917990\n",
      "Test auPRC: 0.782688\n"
     ]
    },
    {
     "name": "stderr",
     "output_type": "stream",
     "text": [
      "Epochs:  28%|██▊       | 83/300 [17:54<47:16, 13.07s/it, recon=0.671, latent=0.022, clf=0.868, perplexity=169.765]"
     ]
    },
    {
     "name": "stdout",
     "output_type": "stream",
     "text": [
      "Train accuracy: 0.706966\n",
      "Train auROC: 0.915182\n",
      "Train auPRC: 0.769301\n",
      "Valid accuracy: 0.724000\n",
      "Valid auROC: 0.922534\n",
      "Valid auPRC: 0.783574\n",
      "Test accuracy: 0.703000\n",
      "Test auROC: 0.917104\n",
      "Test auPRC: 0.780060\n"
     ]
    },
    {
     "name": "stderr",
     "output_type": "stream",
     "text": [
      "Epochs:  28%|██▊       | 84/300 [18:07<47:01, 13.06s/it, recon=0.671, latent=0.022, clf=0.870, perplexity=168.831]"
     ]
    },
    {
     "name": "stdout",
     "output_type": "stream",
     "text": [
      "Train accuracy: 0.705469\n",
      "Train auROC: 0.914611\n",
      "Train auPRC: 0.770233\n",
      "Valid accuracy: 0.739000\n",
      "Valid auROC: 0.923101\n",
      "Valid auPRC: 0.783969\n",
      "Test accuracy: 0.708000\n",
      "Test auROC: 0.918544\n",
      "Test auPRC: 0.783513\n"
     ]
    },
    {
     "name": "stderr",
     "output_type": "stream",
     "text": [
      "Epochs:  28%|██▊       | 85/300 [18:20<46:46, 13.06s/it, recon=0.670, latent=0.022, clf=0.873, perplexity=166.930]"
     ]
    },
    {
     "name": "stdout",
     "output_type": "stream",
     "text": [
      "Train accuracy: 0.705794\n",
      "Train auROC: 0.914235\n",
      "Train auPRC: 0.767599\n",
      "Valid accuracy: 0.728000\n",
      "Valid auROC: 0.922257\n",
      "Valid auPRC: 0.782477\n",
      "Test accuracy: 0.710000\n",
      "Test auROC: 0.918417\n",
      "Test auPRC: 0.782127\n"
     ]
    },
    {
     "name": "stderr",
     "output_type": "stream",
     "text": [
      "Epochs:  29%|██▊       | 86/300 [18:33<46:31, 13.04s/it, recon=0.671, latent=0.022, clf=0.865, perplexity=168.115]"
     ]
    },
    {
     "name": "stdout",
     "output_type": "stream",
     "text": [
      "Train accuracy: 0.709635\n",
      "Train auROC: 0.915480\n",
      "Train auPRC: 0.771232\n",
      "Valid accuracy: 0.717000\n",
      "Valid auROC: 0.922723\n",
      "Valid auPRC: 0.783136\n",
      "Test accuracy: 0.706000\n",
      "Test auROC: 0.918311\n",
      "Test auPRC: 0.783278\n"
     ]
    },
    {
     "name": "stderr",
     "output_type": "stream",
     "text": [
      "\r",
      "Epochs:  29%|██▊       | 86/300 [18:44<46:31, 13.04s/it, recon=0.671, latent=0.021, clf=0.866, perplexity=165.954]"
     ]
    },
    {
     "name": "stdout",
     "output_type": "stream",
     "text": [
      "Train accuracy: 0.708464\n",
      "Train auROC: 0.915425\n",
      "Train auPRC: 0.770959\n",
      "Valid accuracy: 0.737000\n",
      "Valid auROC: 0.923521\n",
      "Valid auPRC: 0.785161\n",
      "Test accuracy: 0.713000\n",
      "Test auROC: 0.919507\n",
      "Test auPRC: 0.784508\n"
     ]
    },
    {
     "name": "stderr",
     "output_type": "stream",
     "text": [
      "Epochs:  29%|██▉       | 87/300 [18:57<46:37, 13.13s/it, recon=0.670, latent=0.022, clf=0.867, perplexity=167.505]"
     ]
    },
    {
     "name": "stdout",
     "output_type": "stream",
     "text": [
      "Train accuracy: 0.709245\n",
      "Train auROC: 0.915047\n",
      "Train auPRC: 0.768859\n",
      "Valid accuracy: 0.734000\n",
      "Valid auROC: 0.923579\n",
      "Valid auPRC: 0.785234\n",
      "Test accuracy: 0.705000\n",
      "Test auROC: 0.918878\n",
      "Test auPRC: 0.783148\n"
     ]
    },
    {
     "name": "stderr",
     "output_type": "stream",
     "text": [
      "Epochs:  30%|██▉       | 89/300 [19:13<46:06, 13.11s/it, recon=0.670, latent=0.022, clf=0.860, perplexity=168.226]"
     ]
    },
    {
     "name": "stdout",
     "output_type": "stream",
     "text": [
      "Train accuracy: 0.713411\n",
      "Train auROC: 0.916514\n",
      "Train auPRC: 0.772937\n",
      "Valid accuracy: 0.727000\n",
      "Valid auROC: 0.923120\n",
      "Valid auPRC: 0.784626\n",
      "Test accuracy: 0.704000\n",
      "Test auROC: 0.919085\n",
      "Test auPRC: 0.783392\n"
     ]
    },
    {
     "name": "stderr",
     "output_type": "stream",
     "text": [
      "Epochs:  30%|███       | 90/300 [19:26<45:48, 13.09s/it, recon=0.669, latent=0.022, clf=0.860, perplexity=164.895]"
     ]
    },
    {
     "name": "stdout",
     "output_type": "stream",
     "text": [
      "Train accuracy: 0.710742\n",
      "Train auROC: 0.916558\n",
      "Train auPRC: 0.773985\n",
      "Valid accuracy: 0.729000\n",
      "Valid auROC: 0.922907\n",
      "Valid auPRC: 0.784986\n",
      "Test accuracy: 0.703000\n",
      "Test auROC: 0.918516\n",
      "Test auPRC: 0.781962\n"
     ]
    },
    {
     "name": "stderr",
     "output_type": "stream",
     "text": [
      "Epochs:  30%|███       | 91/300 [19:39<45:36, 13.09s/it, recon=0.669, latent=0.022, clf=0.863, perplexity=165.941]"
     ]
    },
    {
     "name": "stdout",
     "output_type": "stream",
     "text": [
      "Train accuracy: 0.708073\n",
      "Train auROC: 0.916219\n",
      "Train auPRC: 0.772859\n",
      "Valid accuracy: 0.722000\n",
      "Valid auROC: 0.921593\n",
      "Valid auPRC: 0.780839\n",
      "Test accuracy: 0.706000\n",
      "Test auROC: 0.916945\n",
      "Test auPRC: 0.780432\n"
     ]
    },
    {
     "name": "stderr",
     "output_type": "stream",
     "text": [
      "Epochs:  31%|███       | 92/300 [19:52<45:25, 13.11s/it, recon=0.669, latent=0.022, clf=0.856, perplexity=164.869]"
     ]
    },
    {
     "name": "stdout",
     "output_type": "stream",
     "text": [
      "Train accuracy: 0.711133\n",
      "Train auROC: 0.917311\n",
      "Train auPRC: 0.775692\n",
      "Valid accuracy: 0.736000\n",
      "Valid auROC: 0.922702\n",
      "Valid auPRC: 0.782107\n",
      "Test accuracy: 0.716000\n",
      "Test auROC: 0.919446\n",
      "Test auPRC: 0.785305\n"
     ]
    },
    {
     "name": "stderr",
     "output_type": "stream",
     "text": [
      "Epochs:  31%|███       | 93/300 [20:05<45:14, 13.11s/it, recon=0.669, latent=0.021, clf=0.858, perplexity=164.614]"
     ]
    },
    {
     "name": "stdout",
     "output_type": "stream",
     "text": [
      "Train accuracy: 0.710938\n",
      "Train auROC: 0.916913\n",
      "Train auPRC: 0.774688\n",
      "Valid accuracy: 0.726000\n",
      "Valid auROC: 0.922655\n",
      "Valid auPRC: 0.784952\n",
      "Test accuracy: 0.706000\n",
      "Test auROC: 0.919089\n",
      "Test auPRC: 0.784602\n"
     ]
    },
    {
     "name": "stderr",
     "output_type": "stream",
     "text": [
      "Epochs:  31%|███▏      | 94/300 [20:18<44:58, 13.10s/it, recon=0.670, latent=0.022, clf=0.853, perplexity=164.964]"
     ]
    },
    {
     "name": "stdout",
     "output_type": "stream",
     "text": [
      "Train accuracy: 0.711914\n",
      "Train auROC: 0.918340\n",
      "Train auPRC: 0.777347\n",
      "Valid accuracy: 0.735000\n",
      "Valid auROC: 0.922336\n",
      "Valid auPRC: 0.781697\n",
      "Test accuracy: 0.710000\n",
      "Test auROC: 0.919960\n",
      "Test auPRC: 0.786213\n"
     ]
    },
    {
     "name": "stderr",
     "output_type": "stream",
     "text": [
      "Epochs:  32%|███▏      | 95/300 [20:32<44:47, 13.11s/it, recon=0.668, latent=0.022, clf=0.856, perplexity=166.913]"
     ]
    },
    {
     "name": "stdout",
     "output_type": "stream",
     "text": [
      "Train accuracy: 0.710221\n",
      "Train auROC: 0.917577\n",
      "Train auPRC: 0.774006\n",
      "Valid accuracy: 0.740000\n",
      "Valid auROC: 0.922901\n",
      "Valid auPRC: 0.783793\n",
      "Test accuracy: 0.707000\n",
      "Test auROC: 0.920111\n",
      "Test auPRC: 0.786234\n"
     ]
    },
    {
     "name": "stderr",
     "output_type": "stream",
     "text": [
      "Epochs:  32%|███▏      | 96/300 [20:45<44:26, 13.07s/it, recon=0.667, latent=0.022, clf=0.852, perplexity=164.599]"
     ]
    },
    {
     "name": "stdout",
     "output_type": "stream",
     "text": [
      "Train accuracy: 0.715169\n",
      "Train auROC: 0.918235\n",
      "Train auPRC: 0.776787\n",
      "Valid accuracy: 0.735000\n",
      "Valid auROC: 0.922711\n",
      "Valid auPRC: 0.784150\n",
      "Test accuracy: 0.707000\n",
      "Test auROC: 0.919450\n",
      "Test auPRC: 0.784754\n"
     ]
    },
    {
     "name": "stderr",
     "output_type": "stream",
     "text": [
      "Epochs:  32%|███▏      | 97/300 [20:57<44:05, 13.03s/it, recon=0.668, latent=0.022, clf=0.848, perplexity=166.544]"
     ]
    },
    {
     "name": "stdout",
     "output_type": "stream",
     "text": [
      "Train accuracy: 0.712174\n",
      "Train auROC: 0.919202\n",
      "Train auPRC: 0.779883\n",
      "Valid accuracy: 0.730000\n",
      "Valid auROC: 0.922720\n",
      "Valid auPRC: 0.783448\n",
      "Test accuracy: 0.714000\n",
      "Test auROC: 0.919876\n",
      "Test auPRC: 0.785748\n"
     ]
    },
    {
     "name": "stderr",
     "output_type": "stream",
     "text": [
      "Epochs:  33%|███▎      | 98/300 [21:10<43:51, 13.03s/it, recon=0.667, latent=0.022, clf=0.844, perplexity=165.877]"
     ]
    },
    {
     "name": "stdout",
     "output_type": "stream",
     "text": [
      "Train accuracy: 0.714388\n",
      "Train auROC: 0.919954\n",
      "Train auPRC: 0.779782\n",
      "Valid accuracy: 0.721000\n",
      "Valid auROC: 0.922651\n",
      "Valid auPRC: 0.783936\n",
      "Test accuracy: 0.708000\n",
      "Test auROC: 0.919081\n",
      "Test auPRC: 0.783975\n"
     ]
    },
    {
     "name": "stderr",
     "output_type": "stream",
     "text": [
      "\r",
      "Epochs:  33%|███▎      | 98/300 [21:21<43:51, 13.03s/it, recon=0.668, latent=0.022, clf=0.848, perplexity=165.427]"
     ]
    },
    {
     "name": "stdout",
     "output_type": "stream",
     "text": [
      "Train accuracy: 0.713607\n",
      "Train auROC: 0.918896\n",
      "Train auPRC: 0.779159\n",
      "Valid accuracy: 0.731000\n",
      "Valid auROC: 0.923591\n",
      "Valid auPRC: 0.785685\n",
      "Test accuracy: 0.717000\n",
      "Test auROC: 0.921092\n",
      "Test auPRC: 0.788508\n"
     ]
    },
    {
     "name": "stderr",
     "output_type": "stream",
     "text": [
      "Epochs:  33%|███▎      | 100/300 [21:37<43:40, 13.10s/it, recon=0.668, latent=0.021, clf=0.846, perplexity=163.095]"
     ]
    },
    {
     "name": "stdout",
     "output_type": "stream",
     "text": [
      "Train accuracy: 0.716211\n",
      "Train auROC: 0.919582\n",
      "Train auPRC: 0.781251\n",
      "Valid accuracy: 0.726000\n",
      "Valid auROC: 0.922975\n",
      "Valid auPRC: 0.785060\n",
      "Test accuracy: 0.708000\n",
      "Test auROC: 0.920196\n",
      "Test auPRC: 0.786291\n"
     ]
    },
    {
     "name": "stderr",
     "output_type": "stream",
     "text": [
      "\r",
      "Epochs:  33%|███▎      | 100/300 [21:47<43:40, 13.10s/it, recon=0.667, latent=0.022, clf=0.842, perplexity=164.222]"
     ]
    },
    {
     "name": "stdout",
     "output_type": "stream",
     "text": [
      "Train accuracy: 0.717122\n",
      "Train auROC: 0.920047\n",
      "Train auPRC: 0.781649\n",
      "Valid accuracy: 0.724000\n",
      "Valid auROC: 0.923194\n",
      "Valid auPRC: 0.785894\n",
      "Test accuracy: 0.706000\n",
      "Test auROC: 0.918810\n",
      "Test auPRC: 0.783361\n"
     ]
    },
    {
     "name": "stderr",
     "output_type": "stream",
     "text": [
      "Epochs:  34%|███▍      | 102/300 [22:03<43:19, 13.13s/it, recon=0.667, latent=0.023, clf=0.839, perplexity=166.550]"
     ]
    },
    {
     "name": "stdout",
     "output_type": "stream",
     "text": [
      "Train accuracy: 0.718359\n",
      "Train auROC: 0.920731\n",
      "Train auPRC: 0.783318\n",
      "Valid accuracy: 0.723000\n",
      "Valid auROC: 0.922751\n",
      "Valid auPRC: 0.784846\n",
      "Test accuracy: 0.709000\n",
      "Test auROC: 0.919049\n",
      "Test auPRC: 0.784906\n"
     ]
    },
    {
     "name": "stderr",
     "output_type": "stream",
     "text": [
      "Epochs:  34%|███▍      | 103/300 [22:16<43:00, 13.10s/it, recon=0.667, latent=0.022, clf=0.846, perplexity=165.589]"
     ]
    },
    {
     "name": "stdout",
     "output_type": "stream",
     "text": [
      "Train accuracy: 0.715234\n",
      "Train auROC: 0.919719\n",
      "Train auPRC: 0.781269\n",
      "Valid accuracy: 0.731000\n",
      "Valid auROC: 0.923057\n",
      "Valid auPRC: 0.782964\n",
      "Test accuracy: 0.716000\n",
      "Test auROC: 0.921141\n",
      "Test auPRC: 0.788140\n"
     ]
    },
    {
     "name": "stderr",
     "output_type": "stream",
     "text": [
      "Epochs:  35%|███▍      | 104/300 [22:29<42:42, 13.07s/it, recon=0.666, latent=0.022, clf=0.832, perplexity=165.112]"
     ]
    },
    {
     "name": "stdout",
     "output_type": "stream",
     "text": [
      "Train accuracy: 0.719401\n",
      "Train auROC: 0.921917\n",
      "Train auPRC: 0.786494\n",
      "Valid accuracy: 0.730000\n",
      "Valid auROC: 0.923434\n",
      "Valid auPRC: 0.785048\n",
      "Test accuracy: 0.713000\n",
      "Test auROC: 0.921506\n",
      "Test auPRC: 0.789353\n"
     ]
    },
    {
     "name": "stderr",
     "output_type": "stream",
     "text": [
      "\r",
      "Epochs:  35%|███▍      | 104/300 [22:40<42:42, 13.07s/it, recon=0.667, latent=0.022, clf=0.837, perplexity=163.875]"
     ]
    },
    {
     "name": "stdout",
     "output_type": "stream",
     "text": [
      "Train accuracy: 0.716536\n",
      "Train auROC: 0.921451\n",
      "Train auPRC: 0.784690\n",
      "Valid accuracy: 0.728000\n",
      "Valid auROC: 0.923879\n",
      "Valid auPRC: 0.786839\n",
      "Test accuracy: 0.718000\n",
      "Test auROC: 0.921048\n",
      "Test auPRC: 0.787846\n"
     ]
    },
    {
     "name": "stderr",
     "output_type": "stream",
     "text": [
      "Epochs:  35%|███▌      | 106/300 [22:56<42:23, 13.11s/it, recon=0.665, latent=0.022, clf=0.832, perplexity=164.028]"
     ]
    },
    {
     "name": "stdout",
     "output_type": "stream",
     "text": [
      "Train accuracy: 0.717383\n",
      "Train auROC: 0.922119\n",
      "Train auPRC: 0.786808\n",
      "Valid accuracy: 0.734000\n",
      "Valid auROC: 0.923839\n",
      "Valid auPRC: 0.785343\n",
      "Test accuracy: 0.721000\n",
      "Test auROC: 0.921602\n",
      "Test auPRC: 0.790252\n"
     ]
    },
    {
     "name": "stderr",
     "output_type": "stream",
     "text": [
      "Epochs:  36%|███▌      | 107/300 [23:09<42:03, 13.08s/it, recon=0.664, latent=0.022, clf=0.833, perplexity=162.264]"
     ]
    },
    {
     "name": "stdout",
     "output_type": "stream",
     "text": [
      "Train accuracy: 0.720638\n",
      "Train auROC: 0.921911\n",
      "Train auPRC: 0.786434\n",
      "Valid accuracy: 0.725000\n",
      "Valid auROC: 0.923681\n",
      "Valid auPRC: 0.785925\n",
      "Test accuracy: 0.719000\n",
      "Test auROC: 0.921715\n",
      "Test auPRC: 0.789498\n"
     ]
    },
    {
     "name": "stderr",
     "output_type": "stream",
     "text": [
      "Epochs:  36%|███▌      | 108/300 [23:22<41:48, 13.07s/it, recon=0.666, latent=0.022, clf=0.831, perplexity=163.307]"
     ]
    },
    {
     "name": "stdout",
     "output_type": "stream",
     "text": [
      "Train accuracy: 0.717187\n",
      "Train auROC: 0.921941\n",
      "Train auPRC: 0.786346\n",
      "Valid accuracy: 0.727000\n",
      "Valid auROC: 0.923379\n",
      "Valid auPRC: 0.785230\n",
      "Test accuracy: 0.720000\n",
      "Test auROC: 0.922276\n",
      "Test auPRC: 0.789897\n"
     ]
    },
    {
     "name": "stderr",
     "output_type": "stream",
     "text": [
      "Epochs:  36%|███▋      | 109/300 [23:35<41:26, 13.02s/it, recon=0.664, latent=0.022, clf=0.830, perplexity=161.542]"
     ]
    },
    {
     "name": "stdout",
     "output_type": "stream",
     "text": [
      "Train accuracy: 0.718555\n",
      "Train auROC: 0.922472\n",
      "Train auPRC: 0.786885\n",
      "Valid accuracy: 0.732000\n",
      "Valid auROC: 0.923616\n",
      "Valid auPRC: 0.786179\n",
      "Test accuracy: 0.711000\n",
      "Test auROC: 0.920565\n",
      "Test auPRC: 0.787294\n"
     ]
    },
    {
     "name": "stderr",
     "output_type": "stream",
     "text": [
      "Epochs:  37%|███▋      | 110/300 [23:48<41:11, 13.01s/it, recon=0.664, latent=0.024, clf=0.823, perplexity=168.451]"
     ]
    },
    {
     "name": "stdout",
     "output_type": "stream",
     "text": [
      "Train accuracy: 0.723372\n",
      "Train auROC: 0.923639\n",
      "Train auPRC: 0.791827\n",
      "Valid accuracy: 0.723000\n",
      "Valid auROC: 0.922681\n",
      "Valid auPRC: 0.783962\n",
      "Test accuracy: 0.715000\n",
      "Test auROC: 0.920094\n",
      "Test auPRC: 0.786535\n"
     ]
    },
    {
     "name": "stderr",
     "output_type": "stream",
     "text": [
      "Epochs:  37%|███▋      | 111/300 [24:00<40:54, 12.99s/it, recon=0.663, latent=0.023, clf=0.828, perplexity=164.602]"
     ]
    },
    {
     "name": "stdout",
     "output_type": "stream",
     "text": [
      "Train accuracy: 0.721419\n",
      "Train auROC: 0.923024\n",
      "Train auPRC: 0.787774\n",
      "Valid accuracy: 0.726000\n",
      "Valid auROC: 0.924131\n",
      "Valid auPRC: 0.786820\n",
      "Test accuracy: 0.726000\n",
      "Test auROC: 0.921892\n",
      "Test auPRC: 0.789415\n"
     ]
    },
    {
     "name": "stderr",
     "output_type": "stream",
     "text": [
      "Epochs:  37%|███▋      | 112/300 [24:13<40:38, 12.97s/it, recon=0.664, latent=0.023, clf=0.825, perplexity=163.821]"
     ]
    },
    {
     "name": "stdout",
     "output_type": "stream",
     "text": [
      "Train accuracy: 0.721810\n",
      "Train auROC: 0.923623\n",
      "Train auPRC: 0.790627\n",
      "Valid accuracy: 0.725000\n",
      "Valid auROC: 0.923686\n",
      "Valid auPRC: 0.786397\n",
      "Test accuracy: 0.712000\n",
      "Test auROC: 0.920574\n",
      "Test auPRC: 0.786039\n"
     ]
    },
    {
     "name": "stderr",
     "output_type": "stream",
     "text": [
      "Epochs:  38%|███▊      | 113/300 [24:26<40:29, 12.99s/it, recon=0.663, latent=0.023, clf=0.826, perplexity=166.204]"
     ]
    },
    {
     "name": "stdout",
     "output_type": "stream",
     "text": [
      "Train accuracy: 0.716732\n",
      "Train auROC: 0.923185\n",
      "Train auPRC: 0.789302\n",
      "Valid accuracy: 0.724000\n",
      "Valid auROC: 0.923496\n",
      "Valid auPRC: 0.786605\n",
      "Test accuracy: 0.718000\n",
      "Test auROC: 0.920526\n",
      "Test auPRC: 0.786884\n"
     ]
    },
    {
     "name": "stderr",
     "output_type": "stream",
     "text": [
      "Epochs:  38%|███▊      | 114/300 [24:39<40:15, 12.99s/it, recon=0.663, latent=0.023, clf=0.826, perplexity=165.301]"
     ]
    },
    {
     "name": "stdout",
     "output_type": "stream",
     "text": [
      "Train accuracy: 0.720833\n",
      "Train auROC: 0.923206\n",
      "Train auPRC: 0.787720\n",
      "Valid accuracy: 0.725000\n",
      "Valid auROC: 0.923636\n",
      "Valid auPRC: 0.786488\n",
      "Test accuracy: 0.717000\n",
      "Test auROC: 0.920918\n",
      "Test auPRC: 0.787459\n"
     ]
    },
    {
     "name": "stderr",
     "output_type": "stream",
     "text": [
      "Epochs:  38%|███▊      | 115/300 [24:52<40:07, 13.01s/it, recon=0.663, latent=0.022, clf=0.826, perplexity=162.162]"
     ]
    },
    {
     "name": "stdout",
     "output_type": "stream",
     "text": [
      "Train accuracy: 0.722005\n",
      "Train auROC: 0.923150\n",
      "Train auPRC: 0.788437\n",
      "Valid accuracy: 0.725000\n",
      "Valid auROC: 0.924034\n",
      "Valid auPRC: 0.786667\n",
      "Test accuracy: 0.715000\n",
      "Test auROC: 0.921875\n",
      "Test auPRC: 0.789570\n"
     ]
    },
    {
     "name": "stderr",
     "output_type": "stream",
     "text": [
      "Epochs:  39%|███▊      | 116/300 [25:06<39:56, 13.02s/it, recon=0.663, latent=0.023, clf=0.825, perplexity=163.850]"
     ]
    },
    {
     "name": "stdout",
     "output_type": "stream",
     "text": [
      "Train accuracy: 0.719336\n",
      "Train auROC: 0.923305\n",
      "Train auPRC: 0.789696\n",
      "Valid accuracy: 0.732000\n",
      "Valid auROC: 0.924133\n",
      "Valid auPRC: 0.785341\n",
      "Test accuracy: 0.725000\n",
      "Test auROC: 0.922119\n",
      "Test auPRC: 0.790641\n"
     ]
    },
    {
     "name": "stderr",
     "output_type": "stream",
     "text": [
      "Epochs:  39%|███▉      | 117/300 [25:19<39:44, 13.03s/it, recon=0.664, latent=0.022, clf=0.827, perplexity=160.518]"
     ]
    },
    {
     "name": "stdout",
     "output_type": "stream",
     "text": [
      "Train accuracy: 0.717513\n",
      "Train auROC: 0.923344\n",
      "Train auPRC: 0.789593\n",
      "Valid accuracy: 0.723000\n",
      "Valid auROC: 0.923346\n",
      "Valid auPRC: 0.786102\n",
      "Test accuracy: 0.707000\n",
      "Test auROC: 0.920779\n",
      "Test auPRC: 0.787266\n"
     ]
    },
    {
     "name": "stderr",
     "output_type": "stream",
     "text": [
      "Epochs:  39%|███▉      | 118/300 [25:32<39:35, 13.05s/it, recon=0.663, latent=0.022, clf=0.818, perplexity=160.927]"
     ]
    },
    {
     "name": "stdout",
     "output_type": "stream",
     "text": [
      "Train accuracy: 0.724609\n",
      "Train auROC: 0.924841\n",
      "Train auPRC: 0.790909\n",
      "Valid accuracy: 0.726000\n",
      "Valid auROC: 0.923810\n",
      "Valid auPRC: 0.785988\n",
      "Test accuracy: 0.722000\n",
      "Test auROC: 0.922395\n",
      "Test auPRC: 0.790800\n"
     ]
    },
    {
     "name": "stderr",
     "output_type": "stream",
     "text": [
      "\r",
      "Epochs:  39%|███▉      | 118/300 [25:42<39:35, 13.05s/it, recon=0.663, latent=0.023, clf=0.816, perplexity=163.920]"
     ]
    },
    {
     "name": "stdout",
     "output_type": "stream",
     "text": [
      "Train accuracy: 0.721680\n",
      "Train auROC: 0.925121\n",
      "Train auPRC: 0.792733\n",
      "Valid accuracy: 0.723000\n",
      "Valid auROC: 0.924728\n",
      "Valid auPRC: 0.788438\n",
      "Test accuracy: 0.719000\n",
      "Test auROC: 0.922555\n",
      "Test auPRC: 0.790531\n"
     ]
    },
    {
     "name": "stderr",
     "output_type": "stream",
     "text": [
      "Epochs:  40%|████      | 120/300 [25:58<39:23, 13.13s/it, recon=0.663, latent=0.023, clf=0.816, perplexity=165.203]"
     ]
    },
    {
     "name": "stdout",
     "output_type": "stream",
     "text": [
      "Train accuracy: 0.723503\n",
      "Train auROC: 0.924896\n",
      "Train auPRC: 0.794793\n",
      "Valid accuracy: 0.718000\n",
      "Valid auROC: 0.922544\n",
      "Valid auPRC: 0.784424\n",
      "Test accuracy: 0.711000\n",
      "Test auROC: 0.920370\n",
      "Test auPRC: 0.786150\n"
     ]
    },
    {
     "name": "stderr",
     "output_type": "stream",
     "text": [
      "Epochs:  40%|████      | 121/300 [26:11<39:01, 13.08s/it, recon=0.663, latent=0.023, clf=0.814, perplexity=163.991]"
     ]
    },
    {
     "name": "stdout",
     "output_type": "stream",
     "text": [
      "Train accuracy: 0.724414\n",
      "Train auROC: 0.925468\n",
      "Train auPRC: 0.793683\n",
      "Valid accuracy: 0.727000\n",
      "Valid auROC: 0.923901\n",
      "Valid auPRC: 0.786962\n",
      "Test accuracy: 0.722000\n",
      "Test auROC: 0.921652\n",
      "Test auPRC: 0.788312\n"
     ]
    },
    {
     "name": "stderr",
     "output_type": "stream",
     "text": [
      "\r",
      "Epochs:  40%|████      | 121/300 [26:22<39:01, 13.08s/it, recon=0.662, latent=0.023, clf=0.811, perplexity=162.128]"
     ]
    },
    {
     "name": "stdout",
     "output_type": "stream",
     "text": [
      "Train accuracy: 0.725130\n",
      "Train auROC: 0.925993\n",
      "Train auPRC: 0.796781\n",
      "Valid accuracy: 0.731000\n",
      "Valid auROC: 0.924529\n",
      "Valid auPRC: 0.788906\n",
      "Test accuracy: 0.724000\n",
      "Test auROC: 0.923118\n",
      "Test auPRC: 0.792295\n"
     ]
    },
    {
     "name": "stderr",
     "output_type": "stream",
     "text": [
      "Epochs:  41%|████      | 123/300 [26:37<38:37, 13.09s/it, recon=0.662, latent=0.023, clf=0.812, perplexity=163.760]"
     ]
    },
    {
     "name": "stdout",
     "output_type": "stream",
     "text": [
      "Train accuracy: 0.725195\n",
      "Train auROC: 0.925894\n",
      "Train auPRC: 0.795916\n",
      "Valid accuracy: 0.724000\n",
      "Valid auROC: 0.922979\n",
      "Valid auPRC: 0.786551\n",
      "Test accuracy: 0.716000\n",
      "Test auROC: 0.921914\n",
      "Test auPRC: 0.789904\n"
     ]
    },
    {
     "name": "stderr",
     "output_type": "stream",
     "text": [
      "\r",
      "Epochs:  41%|████      | 123/300 [26:48<38:37, 13.09s/it, recon=0.662, latent=0.022, clf=0.807, perplexity=161.131]"
     ]
    },
    {
     "name": "stdout",
     "output_type": "stream",
     "text": [
      "Train accuracy: 0.726693\n",
      "Train auROC: 0.926486\n",
      "Train auPRC: 0.795663\n",
      "Valid accuracy: 0.723000\n",
      "Valid auROC: 0.924889\n",
      "Valid auPRC: 0.789181\n",
      "Test accuracy: 0.724000\n",
      "Test auROC: 0.923231\n",
      "Test auPRC: 0.791209\n"
     ]
    },
    {
     "name": "stderr",
     "output_type": "stream",
     "text": [
      "Epochs:  42%|████▏     | 125/300 [27:04<38:16, 13.12s/it, recon=0.661, latent=0.024, clf=0.808, perplexity=164.928]"
     ]
    },
    {
     "name": "stdout",
     "output_type": "stream",
     "text": [
      "Train accuracy: 0.725846\n",
      "Train auROC: 0.926596\n",
      "Train auPRC: 0.797425\n",
      "Valid accuracy: 0.728000\n",
      "Valid auROC: 0.924554\n",
      "Valid auPRC: 0.788036\n",
      "Test accuracy: 0.722000\n",
      "Test auROC: 0.922649\n",
      "Test auPRC: 0.791064\n"
     ]
    },
    {
     "name": "stderr",
     "output_type": "stream",
     "text": [
      "Epochs:  42%|████▏     | 126/300 [27:17<37:56, 13.08s/it, recon=0.662, latent=0.023, clf=0.807, perplexity=162.538]"
     ]
    },
    {
     "name": "stdout",
     "output_type": "stream",
     "text": [
      "Train accuracy: 0.725977\n",
      "Train auROC: 0.926737\n",
      "Train auPRC: 0.796598\n",
      "Valid accuracy: 0.723000\n",
      "Valid auROC: 0.923966\n",
      "Valid auPRC: 0.787590\n",
      "Test accuracy: 0.712000\n",
      "Test auROC: 0.921547\n",
      "Test auPRC: 0.789505\n"
     ]
    },
    {
     "name": "stderr",
     "output_type": "stream",
     "text": [
      "Epochs:  42%|████▏     | 127/300 [27:30<37:37, 13.05s/it, recon=0.661, latent=0.024, clf=0.816, perplexity=164.905]"
     ]
    },
    {
     "name": "stdout",
     "output_type": "stream",
     "text": [
      "Train accuracy: 0.721289\n",
      "Train auROC: 0.925092\n",
      "Train auPRC: 0.793098\n",
      "Valid accuracy: 0.730000\n",
      "Valid auROC: 0.924591\n",
      "Valid auPRC: 0.787847\n",
      "Test accuracy: 0.730000\n",
      "Test auROC: 0.922924\n",
      "Test auPRC: 0.791448\n"
     ]
    },
    {
     "name": "stderr",
     "output_type": "stream",
     "text": [
      "Epochs:  43%|████▎     | 128/300 [27:43<37:25, 13.05s/it, recon=0.661, latent=0.024, clf=0.803, perplexity=163.335]"
     ]
    },
    {
     "name": "stdout",
     "output_type": "stream",
     "text": [
      "Train accuracy: 0.723958\n",
      "Train auROC: 0.927193\n",
      "Train auPRC: 0.798794\n",
      "Valid accuracy: 0.724000\n",
      "Valid auROC: 0.924379\n",
      "Valid auPRC: 0.788888\n",
      "Test accuracy: 0.720000\n",
      "Test auROC: 0.922779\n",
      "Test auPRC: 0.790181\n"
     ]
    },
    {
     "name": "stderr",
     "output_type": "stream",
     "text": [
      "\r",
      "Epochs:  43%|████▎     | 128/300 [27:53<37:25, 13.05s/it, recon=0.661, latent=0.024, clf=0.799, perplexity=165.330]"
     ]
    },
    {
     "name": "stdout",
     "output_type": "stream",
     "text": [
      "Train accuracy: 0.728646\n",
      "Train auROC: 0.928409\n",
      "Train auPRC: 0.801520\n",
      "Valid accuracy: 0.731000\n",
      "Valid auROC: 0.924991\n",
      "Valid auPRC: 0.789556\n",
      "Test accuracy: 0.728000\n",
      "Test auROC: 0.922991\n",
      "Test auPRC: 0.790925\n"
     ]
    },
    {
     "name": "stderr",
     "output_type": "stream",
     "text": [
      "Epochs:  43%|████▎     | 129/300 [28:07<37:24, 13.13s/it, recon=0.660, latent=0.024, clf=0.792, perplexity=164.561]"
     ]
    },
    {
     "name": "stdout",
     "output_type": "stream",
     "text": [
      "Train accuracy: 0.734635\n",
      "Train auROC: 0.929359\n",
      "Train auPRC: 0.804101\n",
      "Valid accuracy: 0.732000\n",
      "Valid auROC: 0.925174\n",
      "Valid auPRC: 0.789835\n",
      "Test accuracy: 0.719000\n",
      "Test auROC: 0.923053\n",
      "Test auPRC: 0.791127\n"
     ]
    },
    {
     "name": "stderr",
     "output_type": "stream",
     "text": [
      "Epochs:  43%|████▎     | 130/300 [28:20<37:19, 13.17s/it, recon=0.660, latent=0.025, clf=0.797, perplexity=167.106]"
     ]
    },
    {
     "name": "stdout",
     "output_type": "stream",
     "text": [
      "Train accuracy: 0.730599\n",
      "Train auROC: 0.928449\n",
      "Train auPRC: 0.800289\n",
      "Valid accuracy: 0.729000\n",
      "Valid auROC: 0.925652\n",
      "Valid auPRC: 0.790285\n",
      "Test accuracy: 0.730000\n",
      "Test auROC: 0.923949\n",
      "Test auPRC: 0.793616\n"
     ]
    },
    {
     "name": "stderr",
     "output_type": "stream",
     "text": [
      "Epochs:  44%|████▍     | 132/300 [28:36<36:46, 13.14s/it, recon=0.660, latent=0.025, clf=0.797, perplexity=167.170]"
     ]
    },
    {
     "name": "stdout",
     "output_type": "stream",
     "text": [
      "Train accuracy: 0.729102\n",
      "Train auROC: 0.928727\n",
      "Train auPRC: 0.801362\n",
      "Valid accuracy: 0.721000\n",
      "Valid auROC: 0.924125\n",
      "Valid auPRC: 0.788116\n",
      "Test accuracy: 0.721000\n",
      "Test auROC: 0.923241\n",
      "Test auPRC: 0.792657\n"
     ]
    },
    {
     "name": "stderr",
     "output_type": "stream",
     "text": [
      "Epochs:  44%|████▍     | 133/300 [28:49<36:32, 13.13s/it, recon=0.659, latent=0.024, clf=0.797, perplexity=164.836]"
     ]
    },
    {
     "name": "stdout",
     "output_type": "stream",
     "text": [
      "Train accuracy: 0.730924\n",
      "Train auROC: 0.928359\n",
      "Train auPRC: 0.799874\n",
      "Valid accuracy: 0.726000\n",
      "Valid auROC: 0.924356\n",
      "Valid auPRC: 0.787469\n",
      "Test accuracy: 0.721000\n",
      "Test auROC: 0.923754\n",
      "Test auPRC: 0.792504\n"
     ]
    },
    {
     "name": "stderr",
     "output_type": "stream",
     "text": [
      "\r",
      "Epochs:  44%|████▍     | 133/300 [28:59<36:32, 13.13s/it, recon=0.659, latent=0.025, clf=0.789, perplexity=167.319]"
     ]
    },
    {
     "name": "stdout",
     "output_type": "stream",
     "text": [
      "Train accuracy: 0.734115\n",
      "Train auROC: 0.929821\n",
      "Train auPRC: 0.802619\n",
      "Valid accuracy: 0.730000\n",
      "Valid auROC: 0.925418\n",
      "Valid auPRC: 0.791505\n",
      "Test accuracy: 0.721000\n",
      "Test auROC: 0.923500\n",
      "Test auPRC: 0.792132\n"
     ]
    },
    {
     "name": "stderr",
     "output_type": "stream",
     "text": [
      "Epochs:  45%|████▌     | 135/300 [29:15<36:05, 13.12s/it, recon=0.659, latent=0.025, clf=0.795, perplexity=166.469]"
     ]
    },
    {
     "name": "stdout",
     "output_type": "stream",
     "text": [
      "Train accuracy: 0.730013\n",
      "Train auROC: 0.928767\n",
      "Train auPRC: 0.802588\n",
      "Valid accuracy: 0.730000\n",
      "Valid auROC: 0.925504\n",
      "Valid auPRC: 0.791397\n",
      "Test accuracy: 0.720000\n",
      "Test auROC: 0.923305\n",
      "Test auPRC: 0.791565\n"
     ]
    },
    {
     "name": "stderr",
     "output_type": "stream",
     "text": [
      "Epochs:  45%|████▌     | 136/300 [29:28<35:46, 13.09s/it, recon=0.659, latent=0.025, clf=0.798, perplexity=164.523]"
     ]
    },
    {
     "name": "stdout",
     "output_type": "stream",
     "text": [
      "Train accuracy: 0.732096\n",
      "Train auROC: 0.928473\n",
      "Train auPRC: 0.800736\n",
      "Valid accuracy: 0.729000\n",
      "Valid auROC: 0.925381\n",
      "Valid auPRC: 0.789117\n",
      "Test accuracy: 0.726000\n",
      "Test auROC: 0.924274\n",
      "Test auPRC: 0.792369\n"
     ]
    },
    {
     "name": "stderr",
     "output_type": "stream",
     "text": [
      "Epochs:  46%|████▌     | 137/300 [29:41<35:30, 13.07s/it, recon=0.659, latent=0.025, clf=0.791, perplexity=165.964]"
     ]
    },
    {
     "name": "stdout",
     "output_type": "stream",
     "text": [
      "Train accuracy: 0.729167\n",
      "Train auROC: 0.929726\n",
      "Train auPRC: 0.806002\n",
      "Valid accuracy: 0.733000\n",
      "Valid auROC: 0.925851\n",
      "Valid auPRC: 0.790601\n",
      "Test accuracy: 0.727000\n",
      "Test auROC: 0.924285\n",
      "Test auPRC: 0.793202\n"
     ]
    },
    {
     "name": "stderr",
     "output_type": "stream",
     "text": [
      "Epochs:  46%|████▌     | 138/300 [29:54<35:14, 13.05s/it, recon=0.659, latent=0.025, clf=0.789, perplexity=165.727]"
     ]
    },
    {
     "name": "stdout",
     "output_type": "stream",
     "text": [
      "Train accuracy: 0.732096\n",
      "Train auROC: 0.929806\n",
      "Train auPRC: 0.805190\n",
      "Valid accuracy: 0.734000\n",
      "Valid auROC: 0.925365\n",
      "Valid auPRC: 0.790654\n",
      "Test accuracy: 0.728000\n",
      "Test auROC: 0.923542\n",
      "Test auPRC: 0.792375\n"
     ]
    },
    {
     "name": "stderr",
     "output_type": "stream",
     "text": [
      "Epochs:  46%|████▋     | 139/300 [30:07<34:58, 13.03s/it, recon=0.659, latent=0.025, clf=0.795, perplexity=163.846]"
     ]
    },
    {
     "name": "stdout",
     "output_type": "stream",
     "text": [
      "Train accuracy: 0.727995\n",
      "Train auROC: 0.928840\n",
      "Train auPRC: 0.802128\n",
      "Valid accuracy: 0.715000\n",
      "Valid auROC: 0.924239\n",
      "Valid auPRC: 0.787173\n",
      "Test accuracy: 0.718000\n",
      "Test auROC: 0.924055\n",
      "Test auPRC: 0.792667\n"
     ]
    },
    {
     "name": "stderr",
     "output_type": "stream",
     "text": [
      "Epochs:  47%|████▋     | 140/300 [30:20<34:45, 13.04s/it, recon=0.659, latent=0.025, clf=0.797, perplexity=164.852]"
     ]
    },
    {
     "name": "stdout",
     "output_type": "stream",
     "text": [
      "Train accuracy: 0.729036\n",
      "Train auROC: 0.928232\n",
      "Train auPRC: 0.799590\n",
      "Valid accuracy: 0.733000\n",
      "Valid auROC: 0.924795\n",
      "Valid auPRC: 0.788258\n",
      "Test accuracy: 0.726000\n",
      "Test auROC: 0.923945\n",
      "Test auPRC: 0.793644\n"
     ]
    },
    {
     "name": "stderr",
     "output_type": "stream",
     "text": [
      "Epochs:  47%|████▋     | 141/300 [30:33<34:32, 13.03s/it, recon=0.658, latent=0.025, clf=0.789, perplexity=164.630]"
     ]
    },
    {
     "name": "stdout",
     "output_type": "stream",
     "text": [
      "Train accuracy: 0.730729\n",
      "Train auROC: 0.930177\n",
      "Train auPRC: 0.804927\n",
      "Valid accuracy: 0.728000\n",
      "Valid auROC: 0.924943\n",
      "Valid auPRC: 0.788892\n",
      "Test accuracy: 0.721000\n",
      "Test auROC: 0.923485\n",
      "Test auPRC: 0.791938\n"
     ]
    },
    {
     "name": "stderr",
     "output_type": "stream",
     "text": [
      "Epochs:  47%|████▋     | 142/300 [30:46<34:18, 13.03s/it, recon=0.658, latent=0.025, clf=0.785, perplexity=165.469]"
     ]
    },
    {
     "name": "stdout",
     "output_type": "stream",
     "text": [
      "Train accuracy: 0.734831\n",
      "Train auROC: 0.930684\n",
      "Train auPRC: 0.806424\n",
      "Valid accuracy: 0.728000\n",
      "Valid auROC: 0.925011\n",
      "Valid auPRC: 0.791045\n",
      "Test accuracy: 0.724000\n",
      "Test auROC: 0.923616\n",
      "Test auPRC: 0.795000\n"
     ]
    },
    {
     "name": "stderr",
     "output_type": "stream",
     "text": [
      "Epochs:  48%|████▊     | 143/300 [30:59<34:03, 13.02s/it, recon=0.658, latent=0.026, clf=0.786, perplexity=165.850]"
     ]
    },
    {
     "name": "stdout",
     "output_type": "stream",
     "text": [
      "Train accuracy: 0.732878\n",
      "Train auROC: 0.930272\n",
      "Train auPRC: 0.806338\n",
      "Valid accuracy: 0.727000\n",
      "Valid auROC: 0.925304\n",
      "Valid auPRC: 0.791186\n",
      "Test accuracy: 0.713000\n",
      "Test auROC: 0.924021\n",
      "Test auPRC: 0.793442\n"
     ]
    },
    {
     "name": "stderr",
     "output_type": "stream",
     "text": [
      "Epochs:  48%|████▊     | 144/300 [31:12<33:50, 13.01s/it, recon=0.657, latent=0.026, clf=0.781, perplexity=166.650]"
     ]
    },
    {
     "name": "stdout",
     "output_type": "stream",
     "text": [
      "Train accuracy: 0.733398\n",
      "Train auROC: 0.931563\n",
      "Train auPRC: 0.807080\n",
      "Valid accuracy: 0.731000\n",
      "Valid auROC: 0.925647\n",
      "Valid auPRC: 0.790914\n",
      "Test accuracy: 0.729000\n",
      "Test auROC: 0.925341\n",
      "Test auPRC: 0.795518\n"
     ]
    },
    {
     "name": "stderr",
     "output_type": "stream",
     "text": [
      "Epochs:  48%|████▊     | 145/300 [31:25<33:36, 13.01s/it, recon=0.657, latent=0.026, clf=0.781, perplexity=168.008]"
     ]
    },
    {
     "name": "stdout",
     "output_type": "stream",
     "text": [
      "Train accuracy: 0.735482\n",
      "Train auROC: 0.931342\n",
      "Train auPRC: 0.807584\n",
      "Valid accuracy: 0.731000\n",
      "Valid auROC: 0.925125\n",
      "Valid auPRC: 0.789728\n",
      "Test accuracy: 0.726000\n",
      "Test auROC: 0.924619\n",
      "Test auPRC: 0.795818\n"
     ]
    },
    {
     "name": "stderr",
     "output_type": "stream",
     "text": [
      "Epochs:  49%|████▊     | 146/300 [31:38<33:18, 12.98s/it, recon=0.658, latent=0.025, clf=0.780, perplexity=164.578]"
     ]
    },
    {
     "name": "stdout",
     "output_type": "stream",
     "text": [
      "Train accuracy: 0.735742\n",
      "Train auROC: 0.931654\n",
      "Train auPRC: 0.807950\n",
      "Valid accuracy: 0.734000\n",
      "Valid auROC: 0.925088\n",
      "Valid auPRC: 0.789224\n",
      "Test accuracy: 0.723000\n",
      "Test auROC: 0.924878\n",
      "Test auPRC: 0.795316\n"
     ]
    },
    {
     "name": "stderr",
     "output_type": "stream",
     "text": [
      "Epochs:  49%|████▉     | 147/300 [31:51<33:04, 12.97s/it, recon=0.657, latent=0.026, clf=0.779, perplexity=167.774]"
     ]
    },
    {
     "name": "stdout",
     "output_type": "stream",
     "text": [
      "Train accuracy: 0.735417\n",
      "Train auROC: 0.931725\n",
      "Train auPRC: 0.809361\n",
      "Valid accuracy: 0.729000\n",
      "Valid auROC: 0.925969\n",
      "Valid auPRC: 0.790787\n",
      "Test accuracy: 0.730000\n",
      "Test auROC: 0.924970\n",
      "Test auPRC: 0.796075\n"
     ]
    },
    {
     "name": "stderr",
     "output_type": "stream",
     "text": [
      "Epochs:  49%|████▉     | 148/300 [32:04<32:51, 12.97s/it, recon=0.657, latent=0.026, clf=0.784, perplexity=165.265]"
     ]
    },
    {
     "name": "stdout",
     "output_type": "stream",
     "text": [
      "Train accuracy: 0.732747\n",
      "Train auROC: 0.931089\n",
      "Train auPRC: 0.806423\n",
      "Valid accuracy: 0.722000\n",
      "Valid auROC: 0.925226\n",
      "Valid auPRC: 0.791384\n",
      "Test accuracy: 0.716000\n",
      "Test auROC: 0.923922\n",
      "Test auPRC: 0.794072\n"
     ]
    },
    {
     "name": "stderr",
     "output_type": "stream",
     "text": [
      "Epochs:  50%|████▉     | 149/300 [32:17<32:37, 12.96s/it, recon=0.656, latent=0.027, clf=0.773, perplexity=168.483]"
     ]
    },
    {
     "name": "stdout",
     "output_type": "stream",
     "text": [
      "Train accuracy: 0.737109\n",
      "Train auROC: 0.933148\n",
      "Train auPRC: 0.811506\n",
      "Valid accuracy: 0.730000\n",
      "Valid auROC: 0.925036\n",
      "Valid auPRC: 0.789596\n",
      "Test accuracy: 0.725000\n",
      "Test auROC: 0.924500\n",
      "Test auPRC: 0.793621\n"
     ]
    },
    {
     "name": "stderr",
     "output_type": "stream",
     "text": [
      "Epochs:  50%|█████     | 150/300 [32:30<32:24, 12.96s/it, recon=0.657, latent=0.026, clf=0.777, perplexity=165.472]"
     ]
    },
    {
     "name": "stdout",
     "output_type": "stream",
     "text": [
      "Train accuracy: 0.737956\n",
      "Train auROC: 0.932471\n",
      "Train auPRC: 0.811764\n",
      "Valid accuracy: 0.728000\n",
      "Valid auROC: 0.925048\n",
      "Valid auPRC: 0.789787\n",
      "Test accuracy: 0.728000\n",
      "Test auROC: 0.924951\n",
      "Test auPRC: 0.796106\n"
     ]
    },
    {
     "name": "stderr",
     "output_type": "stream",
     "text": [
      "Epochs:  50%|█████     | 151/300 [32:43<32:13, 12.98s/it, recon=0.656, latent=0.026, clf=0.767, perplexity=166.460]"
     ]
    },
    {
     "name": "stdout",
     "output_type": "stream",
     "text": [
      "Train accuracy: 0.737305\n",
      "Train auROC: 0.933694\n",
      "Train auPRC: 0.812295\n",
      "Valid accuracy: 0.727000\n",
      "Valid auROC: 0.925259\n",
      "Valid auPRC: 0.790726\n",
      "Test accuracy: 0.720000\n",
      "Test auROC: 0.924770\n",
      "Test auPRC: 0.795979\n"
     ]
    },
    {
     "name": "stderr",
     "output_type": "stream",
     "text": [
      "Epochs:  51%|█████     | 152/300 [32:56<32:01, 12.98s/it, recon=0.655, latent=0.026, clf=0.774, perplexity=166.104]"
     ]
    },
    {
     "name": "stdout",
     "output_type": "stream",
     "text": [
      "Train accuracy: 0.737956\n",
      "Train auROC: 0.932790\n",
      "Train auPRC: 0.811301\n",
      "Valid accuracy: 0.728000\n",
      "Valid auROC: 0.925767\n",
      "Valid auPRC: 0.791431\n",
      "Test accuracy: 0.727000\n",
      "Test auROC: 0.924729\n",
      "Test auPRC: 0.793939\n"
     ]
    },
    {
     "name": "stderr",
     "output_type": "stream",
     "text": [
      "Epochs:  51%|█████     | 153/300 [33:09<31:49, 12.99s/it, recon=0.656, latent=0.027, clf=0.776, perplexity=167.131]"
     ]
    },
    {
     "name": "stdout",
     "output_type": "stream",
     "text": [
      "Train accuracy: 0.740169\n",
      "Train auROC: 0.932317\n",
      "Train auPRC: 0.810145\n",
      "Valid accuracy: 0.720000\n",
      "Valid auROC: 0.923656\n",
      "Valid auPRC: 0.788433\n",
      "Test accuracy: 0.714000\n",
      "Test auROC: 0.922654\n",
      "Test auPRC: 0.790693\n"
     ]
    },
    {
     "name": "stderr",
     "output_type": "stream",
     "text": [
      "Epochs:  51%|█████▏    | 154/300 [33:22<31:36, 12.99s/it, recon=0.656, latent=0.026, clf=0.767, perplexity=164.447]"
     ]
    },
    {
     "name": "stdout",
     "output_type": "stream",
     "text": [
      "Train accuracy: 0.741406\n",
      "Train auROC: 0.933609\n",
      "Train auPRC: 0.813279\n",
      "Valid accuracy: 0.732000\n",
      "Valid auROC: 0.925646\n",
      "Valid auPRC: 0.790757\n",
      "Test accuracy: 0.725000\n",
      "Test auROC: 0.924893\n",
      "Test auPRC: 0.795891\n"
     ]
    },
    {
     "name": "stderr",
     "output_type": "stream",
     "text": [
      "Epochs:  52%|█████▏    | 155/300 [33:35<31:24, 13.00s/it, recon=0.656, latent=0.027, clf=0.761, perplexity=167.082]"
     ]
    },
    {
     "name": "stdout",
     "output_type": "stream",
     "text": [
      "Train accuracy: 0.742122\n",
      "Train auROC: 0.934814\n",
      "Train auPRC: 0.815666\n",
      "Valid accuracy: 0.728000\n",
      "Valid auROC: 0.925367\n",
      "Valid auPRC: 0.791367\n",
      "Test accuracy: 0.715000\n",
      "Test auROC: 0.923170\n",
      "Test auPRC: 0.792096\n"
     ]
    },
    {
     "name": "stderr",
     "output_type": "stream",
     "text": [
      "Epochs:  52%|█████▏    | 156/300 [33:48<31:23, 13.08s/it, recon=0.655, latent=0.027, clf=0.762, perplexity=167.070]"
     ]
    },
    {
     "name": "stdout",
     "output_type": "stream",
     "text": [
      "Train accuracy: 0.741536\n",
      "Train auROC: 0.934648\n",
      "Train auPRC: 0.816026\n",
      "Valid accuracy: 0.728000\n",
      "Valid auROC: 0.925164\n",
      "Valid auPRC: 0.790956\n",
      "Test accuracy: 0.725000\n",
      "Test auROC: 0.925069\n",
      "Test auPRC: 0.796754\n"
     ]
    },
    {
     "name": "stderr",
     "output_type": "stream",
     "text": [
      "Epochs:  52%|█████▏    | 157/300 [34:01<31:13, 13.10s/it, recon=0.656, latent=0.027, clf=0.765, perplexity=167.750]"
     ]
    },
    {
     "name": "stdout",
     "output_type": "stream",
     "text": [
      "Train accuracy: 0.743620\n",
      "Train auROC: 0.934240\n",
      "Train auPRC: 0.815695\n",
      "Valid accuracy: 0.713000\n",
      "Valid auROC: 0.924984\n",
      "Valid auPRC: 0.789943\n",
      "Test accuracy: 0.720000\n",
      "Test auROC: 0.924831\n",
      "Test auPRC: 0.795364\n"
     ]
    },
    {
     "name": "stderr",
     "output_type": "stream",
     "text": [
      "Epochs:  53%|█████▎    | 158/300 [34:14<30:57, 13.08s/it, recon=0.655, latent=0.027, clf=0.763, perplexity=167.921]"
     ]
    },
    {
     "name": "stdout",
     "output_type": "stream",
     "text": [
      "Train accuracy: 0.739648\n",
      "Train auROC: 0.934450\n",
      "Train auPRC: 0.816405\n",
      "Valid accuracy: 0.721000\n",
      "Valid auROC: 0.924582\n",
      "Valid auPRC: 0.789152\n",
      "Test accuracy: 0.726000\n",
      "Test auROC: 0.925501\n",
      "Test auPRC: 0.795779\n"
     ]
    },
    {
     "name": "stderr",
     "output_type": "stream",
     "text": [
      "\r",
      "Epochs:  53%|█████▎    | 158/300 [34:25<30:57, 13.08s/it, recon=0.655, latent=0.027, clf=0.761, perplexity=165.107]"
     ]
    },
    {
     "name": "stdout",
     "output_type": "stream",
     "text": [
      "Train accuracy: 0.740039\n",
      "Train auROC: 0.935042\n",
      "Train auPRC: 0.815896\n",
      "Valid accuracy: 0.726000\n",
      "Valid auROC: 0.926297\n",
      "Valid auPRC: 0.792980\n",
      "Test accuracy: 0.730000\n",
      "Test auROC: 0.925886\n",
      "Test auPRC: 0.796837\n"
     ]
    },
    {
     "name": "stderr",
     "output_type": "stream",
     "text": [
      "Epochs:  53%|█████▎    | 160/300 [34:40<30:28, 13.06s/it, recon=0.654, latent=0.027, clf=0.764, perplexity=166.848]"
     ]
    },
    {
     "name": "stdout",
     "output_type": "stream",
     "text": [
      "Train accuracy: 0.740690\n",
      "Train auROC: 0.934674\n",
      "Train auPRC: 0.815486\n",
      "Valid accuracy: 0.727000\n",
      "Valid auROC: 0.924813\n",
      "Valid auPRC: 0.789262\n",
      "Test accuracy: 0.725000\n",
      "Test auROC: 0.924684\n",
      "Test auPRC: 0.796920\n"
     ]
    },
    {
     "name": "stderr",
     "output_type": "stream",
     "text": [
      "Epochs:  54%|█████▎    | 161/300 [34:53<30:09, 13.02s/it, recon=0.654, latent=0.027, clf=0.765, perplexity=165.629]"
     ]
    },
    {
     "name": "stdout",
     "output_type": "stream",
     "text": [
      "Train accuracy: 0.740104\n",
      "Train auROC: 0.934163\n",
      "Train auPRC: 0.815331\n",
      "Valid accuracy: 0.729000\n",
      "Valid auROC: 0.925538\n",
      "Valid auPRC: 0.790397\n",
      "Test accuracy: 0.724000\n",
      "Test auROC: 0.925565\n",
      "Test auPRC: 0.798349\n"
     ]
    },
    {
     "name": "stderr",
     "output_type": "stream",
     "text": [
      "Epochs:  54%|█████▍    | 162/300 [35:07<30:06, 13.09s/it, recon=0.654, latent=0.027, clf=0.760, perplexity=165.601]"
     ]
    },
    {
     "name": "stdout",
     "output_type": "stream",
     "text": [
      "Train accuracy: 0.744661\n",
      "Train auROC: 0.935409\n",
      "Train auPRC: 0.818157\n",
      "Valid accuracy: 0.726000\n",
      "Valid auROC: 0.925902\n",
      "Valid auPRC: 0.792038\n",
      "Test accuracy: 0.721000\n",
      "Test auROC: 0.925784\n",
      "Test auPRC: 0.797765\n"
     ]
    },
    {
     "name": "stderr",
     "output_type": "stream",
     "text": [
      "\r",
      "Epochs:  54%|█████▍    | 162/300 [35:17<30:06, 13.09s/it, recon=0.654, latent=0.027, clf=0.755, perplexity=165.305]"
     ]
    },
    {
     "name": "stdout",
     "output_type": "stream",
     "text": [
      "Train accuracy: 0.744271\n",
      "Train auROC: 0.935982\n",
      "Train auPRC: 0.817718\n",
      "Valid accuracy: 0.721000\n",
      "Valid auROC: 0.926458\n",
      "Valid auPRC: 0.793213\n",
      "Test accuracy: 0.727000\n",
      "Test auROC: 0.926022\n",
      "Test auPRC: 0.797404\n"
     ]
    },
    {
     "name": "stderr",
     "output_type": "stream",
     "text": [
      "Epochs:  55%|█████▍    | 164/300 [35:33<29:47, 13.14s/it, recon=0.654, latent=0.028, clf=0.755, perplexity=166.996]"
     ]
    },
    {
     "name": "stdout",
     "output_type": "stream",
     "text": [
      "Train accuracy: 0.746615\n",
      "Train auROC: 0.936132\n",
      "Train auPRC: 0.820289\n",
      "Valid accuracy: 0.740000\n",
      "Valid auROC: 0.925961\n",
      "Valid auPRC: 0.792238\n",
      "Test accuracy: 0.727000\n",
      "Test auROC: 0.924756\n",
      "Test auPRC: 0.797455\n"
     ]
    },
    {
     "name": "stderr",
     "output_type": "stream",
     "text": [
      "\r",
      "Epochs:  55%|█████▍    | 164/300 [35:44<29:47, 13.14s/it, recon=0.653, latent=0.028, clf=0.754, perplexity=168.117]"
     ]
    },
    {
     "name": "stdout",
     "output_type": "stream",
     "text": [
      "Train accuracy: 0.746745\n",
      "Train auROC: 0.935979\n",
      "Train auPRC: 0.818671\n",
      "Valid accuracy: 0.723000\n",
      "Valid auROC: 0.926727\n",
      "Valid auPRC: 0.793325\n",
      "Test accuracy: 0.722000\n",
      "Test auROC: 0.926193\n",
      "Test auPRC: 0.798344\n"
     ]
    },
    {
     "name": "stderr",
     "output_type": "stream",
     "text": [
      "Epochs:  55%|█████▌    | 166/300 [35:59<29:19, 13.13s/it, recon=0.653, latent=0.028, clf=0.748, perplexity=166.178]"
     ]
    },
    {
     "name": "stdout",
     "output_type": "stream",
     "text": [
      "Train accuracy: 0.747656\n",
      "Train auROC: 0.937125\n",
      "Train auPRC: 0.821448\n",
      "Valid accuracy: 0.733000\n",
      "Valid auROC: 0.924757\n",
      "Valid auPRC: 0.789651\n",
      "Test accuracy: 0.724000\n",
      "Test auROC: 0.925104\n",
      "Test auPRC: 0.798555\n"
     ]
    },
    {
     "name": "stderr",
     "output_type": "stream",
     "text": [
      "Epochs:  56%|█████▌    | 167/300 [36:12<28:58, 13.07s/it, recon=0.653, latent=0.028, clf=0.749, perplexity=166.416]"
     ]
    },
    {
     "name": "stdout",
     "output_type": "stream",
     "text": [
      "Train accuracy: 0.746484\n",
      "Train auROC: 0.936955\n",
      "Train auPRC: 0.821706\n",
      "Valid accuracy: 0.728000\n",
      "Valid auROC: 0.926199\n",
      "Valid auPRC: 0.792064\n",
      "Test accuracy: 0.728000\n",
      "Test auROC: 0.926015\n",
      "Test auPRC: 0.799231\n"
     ]
    },
    {
     "name": "stderr",
     "output_type": "stream",
     "text": [
      "Epochs:  56%|█████▌    | 168/300 [36:26<28:54, 13.14s/it, recon=0.653, latent=0.029, clf=0.744, perplexity=168.709]"
     ]
    },
    {
     "name": "stdout",
     "output_type": "stream",
     "text": [
      "Train accuracy: 0.744661\n",
      "Train auROC: 0.937841\n",
      "Train auPRC: 0.822967\n",
      "Valid accuracy: 0.729000\n",
      "Valid auROC: 0.926318\n",
      "Valid auPRC: 0.793217\n",
      "Test accuracy: 0.730000\n",
      "Test auROC: 0.924764\n",
      "Test auPRC: 0.796869\n"
     ]
    },
    {
     "name": "stderr",
     "output_type": "stream",
     "text": [
      "Epochs:  56%|█████▋    | 169/300 [36:39<28:42, 13.15s/it, recon=0.653, latent=0.029, clf=0.743, perplexity=169.375]"
     ]
    },
    {
     "name": "stdout",
     "output_type": "stream",
     "text": [
      "Train accuracy: 0.748698\n",
      "Train auROC: 0.937936\n",
      "Train auPRC: 0.823691\n",
      "Valid accuracy: 0.726000\n",
      "Valid auROC: 0.925060\n",
      "Valid auPRC: 0.791329\n",
      "Test accuracy: 0.724000\n",
      "Test auROC: 0.924987\n",
      "Test auPRC: 0.797364\n"
     ]
    },
    {
     "name": "stderr",
     "output_type": "stream",
     "text": [
      "Epochs:  57%|█████▋    | 170/300 [36:52<28:23, 13.10s/it, recon=0.652, latent=0.029, clf=0.743, perplexity=168.940]"
     ]
    },
    {
     "name": "stdout",
     "output_type": "stream",
     "text": [
      "Train accuracy: 0.749935\n",
      "Train auROC: 0.937910\n",
      "Train auPRC: 0.821957\n",
      "Valid accuracy: 0.726000\n",
      "Valid auROC: 0.925320\n",
      "Valid auPRC: 0.790805\n",
      "Test accuracy: 0.720000\n",
      "Test auROC: 0.925639\n",
      "Test auPRC: 0.798750\n"
     ]
    },
    {
     "name": "stderr",
     "output_type": "stream",
     "text": [
      "Epochs:  57%|█████▋    | 171/300 [37:05<28:04, 13.06s/it, recon=0.652, latent=0.030, clf=0.739, perplexity=169.673]"
     ]
    },
    {
     "name": "stdout",
     "output_type": "stream",
     "text": [
      "Train accuracy: 0.748958\n",
      "Train auROC: 0.938788\n",
      "Train auPRC: 0.826820\n",
      "Valid accuracy: 0.730000\n",
      "Valid auROC: 0.926014\n",
      "Valid auPRC: 0.793049\n",
      "Test accuracy: 0.726000\n",
      "Test auROC: 0.924230\n",
      "Test auPRC: 0.795349\n"
     ]
    },
    {
     "name": "stderr",
     "output_type": "stream",
     "text": [
      "Epochs:  57%|█████▋    | 172/300 [37:18<27:47, 13.03s/it, recon=0.653, latent=0.030, clf=0.741, perplexity=169.546]"
     ]
    },
    {
     "name": "stdout",
     "output_type": "stream",
     "text": [
      "Train accuracy: 0.748242\n",
      "Train auROC: 0.938400\n",
      "Train auPRC: 0.824370\n",
      "Valid accuracy: 0.726000\n",
      "Valid auROC: 0.925842\n",
      "Valid auPRC: 0.792277\n",
      "Test accuracy: 0.728000\n",
      "Test auROC: 0.925634\n",
      "Test auPRC: 0.798980\n"
     ]
    },
    {
     "name": "stderr",
     "output_type": "stream",
     "text": [
      "Epochs:  58%|█████▊    | 173/300 [37:31<27:34, 13.03s/it, recon=0.653, latent=0.029, clf=0.738, perplexity=166.981]"
     ]
    },
    {
     "name": "stdout",
     "output_type": "stream",
     "text": [
      "Train accuracy: 0.747396\n",
      "Train auROC: 0.938719\n",
      "Train auPRC: 0.826250\n",
      "Valid accuracy: 0.728000\n",
      "Valid auROC: 0.925980\n",
      "Valid auPRC: 0.792305\n",
      "Test accuracy: 0.730000\n",
      "Test auROC: 0.925885\n",
      "Test auPRC: 0.797863\n"
     ]
    },
    {
     "name": "stderr",
     "output_type": "stream",
     "text": [
      "Epochs:  58%|█████▊    | 174/300 [37:44<27:31, 13.10s/it, recon=0.652, latent=0.029, clf=0.739, perplexity=168.053]"
     ]
    },
    {
     "name": "stdout",
     "output_type": "stream",
     "text": [
      "Train accuracy: 0.747917\n",
      "Train auROC: 0.938347\n",
      "Train auPRC: 0.824493\n",
      "Valid accuracy: 0.729000\n",
      "Valid auROC: 0.925905\n",
      "Valid auPRC: 0.792473\n",
      "Test accuracy: 0.730000\n",
      "Test auROC: 0.925404\n",
      "Test auPRC: 0.798094\n"
     ]
    },
    {
     "name": "stderr",
     "output_type": "stream",
     "text": [
      "Epochs:  58%|█████▊    | 175/300 [37:57<27:19, 13.11s/it, recon=0.651, latent=0.029, clf=0.742, perplexity=165.928]"
     ]
    },
    {
     "name": "stdout",
     "output_type": "stream",
     "text": [
      "Train accuracy: 0.747656\n",
      "Train auROC: 0.937792\n",
      "Train auPRC: 0.822748\n",
      "Valid accuracy: 0.733000\n",
      "Valid auROC: 0.925984\n",
      "Valid auPRC: 0.791419\n",
      "Test accuracy: 0.736000\n",
      "Test auROC: 0.925946\n",
      "Test auPRC: 0.799928\n"
     ]
    },
    {
     "name": "stderr",
     "output_type": "stream",
     "text": [
      "Epochs:  59%|█████▊    | 176/300 [38:10<27:05, 13.11s/it, recon=0.652, latent=0.030, clf=0.731, perplexity=167.755]"
     ]
    },
    {
     "name": "stdout",
     "output_type": "stream",
     "text": [
      "Train accuracy: 0.752279\n",
      "Train auROC: 0.939950\n",
      "Train auPRC: 0.828046\n",
      "Valid accuracy: 0.732000\n",
      "Valid auROC: 0.926224\n",
      "Valid auPRC: 0.790871\n",
      "Test accuracy: 0.730000\n",
      "Test auROC: 0.926316\n",
      "Test auPRC: 0.798570\n"
     ]
    },
    {
     "name": "stderr",
     "output_type": "stream",
     "text": [
      "Epochs:  59%|█████▉    | 177/300 [38:23<26:52, 13.11s/it, recon=0.652, latent=0.030, clf=0.744, perplexity=167.250]"
     ]
    },
    {
     "name": "stdout",
     "output_type": "stream",
     "text": [
      "Train accuracy: 0.746810\n",
      "Train auROC: 0.937608\n",
      "Train auPRC: 0.821655\n",
      "Valid accuracy: 0.730000\n",
      "Valid auROC: 0.926621\n",
      "Valid auPRC: 0.792505\n",
      "Test accuracy: 0.729000\n",
      "Test auROC: 0.926333\n",
      "Test auPRC: 0.800005\n"
     ]
    },
    {
     "name": "stderr",
     "output_type": "stream",
     "text": [
      "Epochs:  59%|█████▉    | 178/300 [38:36<26:35, 13.08s/it, recon=0.651, latent=0.029, clf=0.741, perplexity=165.712]"
     ]
    },
    {
     "name": "stdout",
     "output_type": "stream",
     "text": [
      "Train accuracy: 0.751172\n",
      "Train auROC: 0.938347\n",
      "Train auPRC: 0.823431\n",
      "Valid accuracy: 0.736000\n",
      "Valid auROC: 0.926184\n",
      "Valid auPRC: 0.792004\n",
      "Test accuracy: 0.732000\n",
      "Test auROC: 0.926065\n",
      "Test auPRC: 0.798279\n"
     ]
    },
    {
     "name": "stderr",
     "output_type": "stream",
     "text": [
      "Epochs:  60%|█████▉    | 179/300 [38:49<26:21, 13.07s/it, recon=0.651, latent=0.030, clf=0.731, perplexity=167.876]"
     ]
    },
    {
     "name": "stdout",
     "output_type": "stream",
     "text": [
      "Train accuracy: 0.754818\n",
      "Train auROC: 0.940131\n",
      "Train auPRC: 0.828693\n",
      "Valid accuracy: 0.732000\n",
      "Valid auROC: 0.925074\n",
      "Valid auPRC: 0.791503\n",
      "Test accuracy: 0.725000\n",
      "Test auROC: 0.924661\n",
      "Test auPRC: 0.794946\n"
     ]
    },
    {
     "name": "stderr",
     "output_type": "stream",
     "text": [
      "Epochs:  60%|██████    | 180/300 [39:03<26:16, 13.14s/it, recon=0.650, latent=0.031, clf=0.738, perplexity=168.864]"
     ]
    },
    {
     "name": "stdout",
     "output_type": "stream",
     "text": [
      "Train accuracy: 0.749023\n",
      "Train auROC: 0.938785\n",
      "Train auPRC: 0.826719\n",
      "Valid accuracy: 0.720000\n",
      "Valid auROC: 0.926198\n",
      "Valid auPRC: 0.791867\n",
      "Test accuracy: 0.720000\n",
      "Test auROC: 0.925261\n",
      "Test auPRC: 0.796803\n"
     ]
    },
    {
     "name": "stderr",
     "output_type": "stream",
     "text": [
      "\r",
      "Epochs:  60%|██████    | 180/300 [39:13<26:16, 13.14s/it, recon=0.651, latent=0.030, clf=0.737, perplexity=166.983]"
     ]
    },
    {
     "name": "stdout",
     "output_type": "stream",
     "text": [
      "Train accuracy: 0.747526\n",
      "Train auROC: 0.939033\n",
      "Train auPRC: 0.826711\n",
      "Valid accuracy: 0.735000\n",
      "Valid auROC: 0.927198\n",
      "Valid auPRC: 0.793682\n",
      "Test accuracy: 0.732000\n",
      "Test auROC: 0.926772\n",
      "Test auPRC: 0.800154\n"
     ]
    },
    {
     "name": "stderr",
     "output_type": "stream",
     "text": [
      "Epochs:  60%|██████    | 181/300 [39:27<26:12, 13.21s/it, recon=0.651, latent=0.031, clf=0.729, perplexity=169.470]"
     ]
    },
    {
     "name": "stdout",
     "output_type": "stream",
     "text": [
      "Train accuracy: 0.758138\n",
      "Train auROC: 0.940331\n",
      "Train auPRC: 0.828829\n",
      "Valid accuracy: 0.734000\n",
      "Valid auROC: 0.927120\n",
      "Valid auPRC: 0.794358\n",
      "Test accuracy: 0.725000\n",
      "Test auROC: 0.926153\n",
      "Test auPRC: 0.798264\n"
     ]
    },
    {
     "name": "stderr",
     "output_type": "stream",
     "text": [
      "Epochs:  61%|██████    | 182/300 [39:40<26:06, 13.27s/it, recon=0.651, latent=0.031, clf=0.732, perplexity=168.063]"
     ]
    },
    {
     "name": "stdout",
     "output_type": "stream",
     "text": [
      "Train accuracy: 0.749349\n",
      "Train auROC: 0.939382\n",
      "Train auPRC: 0.826595\n",
      "Valid accuracy: 0.737000\n",
      "Valid auROC: 0.927128\n",
      "Valid auPRC: 0.795679\n",
      "Test accuracy: 0.735000\n",
      "Test auROC: 0.926115\n",
      "Test auPRC: 0.800982\n"
     ]
    },
    {
     "name": "stderr",
     "output_type": "stream",
     "text": [
      "Epochs:  61%|██████▏   | 184/300 [39:56<25:32, 13.21s/it, recon=0.650, latent=0.031, clf=0.723, perplexity=168.209]"
     ]
    },
    {
     "name": "stdout",
     "output_type": "stream",
     "text": [
      "Train accuracy: 0.756250\n",
      "Train auROC: 0.941170\n",
      "Train auPRC: 0.831316\n",
      "Valid accuracy: 0.726000\n",
      "Valid auROC: 0.926359\n",
      "Valid auPRC: 0.792716\n",
      "Test accuracy: 0.728000\n",
      "Test auROC: 0.926395\n",
      "Test auPRC: 0.799887\n"
     ]
    },
    {
     "name": "stderr",
     "output_type": "stream",
     "text": [
      "Epochs:  62%|██████▏   | 185/300 [40:09<25:14, 13.17s/it, recon=0.649, latent=0.031, clf=0.728, perplexity=169.885]"
     ]
    },
    {
     "name": "stdout",
     "output_type": "stream",
     "text": [
      "Train accuracy: 0.753385\n",
      "Train auROC: 0.940380\n",
      "Train auPRC: 0.829602\n",
      "Valid accuracy: 0.730000\n",
      "Valid auROC: 0.925880\n",
      "Valid auPRC: 0.792113\n",
      "Test accuracy: 0.736000\n",
      "Test auROC: 0.926109\n",
      "Test auPRC: 0.801023\n"
     ]
    },
    {
     "name": "stderr",
     "output_type": "stream",
     "text": [
      "Epochs:  62%|██████▏   | 186/300 [40:22<25:04, 13.20s/it, recon=0.649, latent=0.031, clf=0.722, perplexity=169.166]"
     ]
    },
    {
     "name": "stdout",
     "output_type": "stream",
     "text": [
      "Train accuracy: 0.755208\n",
      "Train auROC: 0.941443\n",
      "Train auPRC: 0.831852\n",
      "Valid accuracy: 0.728000\n",
      "Valid auROC: 0.927129\n",
      "Valid auPRC: 0.792768\n",
      "Test accuracy: 0.733000\n",
      "Test auROC: 0.927137\n",
      "Test auPRC: 0.801327\n"
     ]
    },
    {
     "name": "stderr",
     "output_type": "stream",
     "text": [
      "Epochs:  62%|██████▏   | 187/300 [40:35<24:49, 13.18s/it, recon=0.650, latent=0.031, clf=0.719, perplexity=167.391]"
     ]
    },
    {
     "name": "stdout",
     "output_type": "stream",
     "text": [
      "Train accuracy: 0.756901\n",
      "Train auROC: 0.941885\n",
      "Train auPRC: 0.832219\n",
      "Valid accuracy: 0.730000\n",
      "Valid auROC: 0.927115\n",
      "Valid auPRC: 0.795242\n",
      "Test accuracy: 0.736000\n",
      "Test auROC: 0.926674\n",
      "Test auPRC: 0.799127\n"
     ]
    },
    {
     "name": "stderr",
     "output_type": "stream",
     "text": [
      "Epochs:  63%|██████▎   | 188/300 [40:48<24:30, 13.13s/it, recon=0.649, latent=0.032, clf=0.722, perplexity=169.724]"
     ]
    },
    {
     "name": "stdout",
     "output_type": "stream",
     "text": [
      "Train accuracy: 0.757357\n",
      "Train auROC: 0.941504\n",
      "Train auPRC: 0.832994\n",
      "Valid accuracy: 0.730000\n",
      "Valid auROC: 0.925934\n",
      "Valid auPRC: 0.792965\n",
      "Test accuracy: 0.727000\n",
      "Test auROC: 0.925429\n",
      "Test auPRC: 0.796869\n"
     ]
    },
    {
     "name": "stderr",
     "output_type": "stream",
     "text": [
      "Epochs:  63%|██████▎   | 189/300 [41:01<24:12, 13.09s/it, recon=0.649, latent=0.031, clf=0.718, perplexity=166.687]"
     ]
    },
    {
     "name": "stdout",
     "output_type": "stream",
     "text": [
      "Train accuracy: 0.756510\n",
      "Train auROC: 0.942030\n",
      "Train auPRC: 0.834138\n",
      "Valid accuracy: 0.737000\n",
      "Valid auROC: 0.927056\n",
      "Valid auPRC: 0.794540\n",
      "Test accuracy: 0.742000\n",
      "Test auROC: 0.927177\n",
      "Test auPRC: 0.801709\n"
     ]
    },
    {
     "name": "stderr",
     "output_type": "stream",
     "text": [
      "Epochs:  63%|██████▎   | 190/300 [41:14<23:59, 13.09s/it, recon=0.649, latent=0.032, clf=0.720, perplexity=169.048]"
     ]
    },
    {
     "name": "stdout",
     "output_type": "stream",
     "text": [
      "Train accuracy: 0.753841\n",
      "Train auROC: 0.941498\n",
      "Train auPRC: 0.832354\n",
      "Valid accuracy: 0.737000\n",
      "Valid auROC: 0.927482\n",
      "Valid auPRC: 0.794692\n",
      "Test accuracy: 0.724000\n",
      "Test auROC: 0.925598\n",
      "Test auPRC: 0.798749\n"
     ]
    },
    {
     "name": "stderr",
     "output_type": "stream",
     "text": [
      "Epochs:  64%|██████▎   | 191/300 [41:27<23:44, 13.07s/it, recon=0.649, latent=0.032, clf=0.718, perplexity=167.970]"
     ]
    },
    {
     "name": "stdout",
     "output_type": "stream",
     "text": [
      "Train accuracy: 0.756966\n",
      "Train auROC: 0.941746\n",
      "Train auPRC: 0.830723\n",
      "Valid accuracy: 0.726000\n",
      "Valid auROC: 0.925685\n",
      "Valid auPRC: 0.791030\n",
      "Test accuracy: 0.723000\n",
      "Test auROC: 0.925865\n",
      "Test auPRC: 0.799772\n"
     ]
    },
    {
     "name": "stderr",
     "output_type": "stream",
     "text": [
      "Epochs:  64%|██████▍   | 192/300 [41:41<23:39, 13.14s/it, recon=0.648, latent=0.033, clf=0.716, perplexity=170.516]"
     ]
    },
    {
     "name": "stdout",
     "output_type": "stream",
     "text": [
      "Train accuracy: 0.756445\n",
      "Train auROC: 0.942046\n",
      "Train auPRC: 0.832335\n",
      "Valid accuracy: 0.735000\n",
      "Valid auROC: 0.926649\n",
      "Valid auPRC: 0.792164\n",
      "Test accuracy: 0.741000\n",
      "Test auROC: 0.927074\n",
      "Test auPRC: 0.802328\n"
     ]
    },
    {
     "name": "stderr",
     "output_type": "stream",
     "text": [
      "Epochs:  64%|██████▍   | 193/300 [41:54<23:21, 13.10s/it, recon=0.648, latent=0.032, clf=0.719, perplexity=168.084]"
     ]
    },
    {
     "name": "stdout",
     "output_type": "stream",
     "text": [
      "Train accuracy: 0.753125\n",
      "Train auROC: 0.941894\n",
      "Train auPRC: 0.832096\n",
      "Valid accuracy: 0.734000\n",
      "Valid auROC: 0.927616\n",
      "Valid auPRC: 0.795204\n",
      "Test accuracy: 0.736000\n",
      "Test auROC: 0.927042\n",
      "Test auPRC: 0.801082\n"
     ]
    },
    {
     "name": "stderr",
     "output_type": "stream",
     "text": [
      "\r",
      "Epochs:  64%|██████▍   | 193/300 [42:04<23:21, 13.10s/it, recon=0.649, latent=0.033, clf=0.713, perplexity=168.014]"
     ]
    },
    {
     "name": "stdout",
     "output_type": "stream",
     "text": [
      "Train accuracy: 0.759635\n",
      "Train auROC: 0.942915\n",
      "Train auPRC: 0.834730\n",
      "Valid accuracy: 0.738000\n",
      "Valid auROC: 0.927671\n",
      "Valid auPRC: 0.796052\n",
      "Test accuracy: 0.734000\n",
      "Test auROC: 0.926796\n",
      "Test auPRC: 0.800988\n"
     ]
    },
    {
     "name": "stderr",
     "output_type": "stream",
     "text": [
      "Epochs:  65%|██████▌   | 195/300 [42:20<22:55, 13.10s/it, recon=0.649, latent=0.033, clf=0.710, perplexity=169.979]"
     ]
    },
    {
     "name": "stdout",
     "output_type": "stream",
     "text": [
      "Train accuracy: 0.758398\n",
      "Train auROC: 0.943108\n",
      "Train auPRC: 0.835882\n",
      "Valid accuracy: 0.735000\n",
      "Valid auROC: 0.928084\n",
      "Valid auPRC: 0.796016\n",
      "Test accuracy: 0.736000\n",
      "Test auROC: 0.927194\n",
      "Test auPRC: 0.800796\n"
     ]
    },
    {
     "name": "stderr",
     "output_type": "stream",
     "text": [
      "Epochs:  65%|██████▌   | 196/300 [42:33<22:39, 13.07s/it, recon=0.648, latent=0.034, clf=0.708, perplexity=171.737]"
     ]
    },
    {
     "name": "stdout",
     "output_type": "stream",
     "text": [
      "Train accuracy: 0.761198\n",
      "Train auROC: 0.943640\n",
      "Train auPRC: 0.836350\n",
      "Valid accuracy: 0.731000\n",
      "Valid auROC: 0.926446\n",
      "Valid auPRC: 0.792907\n",
      "Test accuracy: 0.737000\n",
      "Test auROC: 0.927277\n",
      "Test auPRC: 0.802010\n"
     ]
    },
    {
     "name": "stderr",
     "output_type": "stream",
     "text": [
      "Epochs:  66%|██████▌   | 197/300 [42:46<22:24, 13.05s/it, recon=0.648, latent=0.034, clf=0.711, perplexity=170.651]"
     ]
    },
    {
     "name": "stdout",
     "output_type": "stream",
     "text": [
      "Train accuracy: 0.760156\n",
      "Train auROC: 0.943578\n",
      "Train auPRC: 0.835845\n",
      "Valid accuracy: 0.731000\n",
      "Valid auROC: 0.927071\n",
      "Valid auPRC: 0.793734\n",
      "Test accuracy: 0.733000\n",
      "Test auROC: 0.926611\n",
      "Test auPRC: 0.800226\n"
     ]
    },
    {
     "name": "stderr",
     "output_type": "stream",
     "text": [
      "Epochs:  66%|██████▌   | 198/300 [42:59<22:16, 13.11s/it, recon=0.647, latent=0.034, clf=0.699, perplexity=170.109]"
     ]
    },
    {
     "name": "stdout",
     "output_type": "stream",
     "text": [
      "Train accuracy: 0.760482\n",
      "Train auROC: 0.944707\n",
      "Train auPRC: 0.840554\n",
      "Valid accuracy: 0.741000\n",
      "Valid auROC: 0.927808\n",
      "Valid auPRC: 0.794908\n",
      "Test accuracy: 0.729000\n",
      "Test auROC: 0.926838\n",
      "Test auPRC: 0.802174\n"
     ]
    },
    {
     "name": "stderr",
     "output_type": "stream",
     "text": [
      "Epochs:  66%|██████▋   | 199/300 [43:12<22:01, 13.08s/it, recon=0.647, latent=0.034, clf=0.712, perplexity=170.317]"
     ]
    },
    {
     "name": "stdout",
     "output_type": "stream",
     "text": [
      "Train accuracy: 0.760026\n",
      "Train auROC: 0.942924\n",
      "Train auPRC: 0.835520\n",
      "Valid accuracy: 0.731000\n",
      "Valid auROC: 0.927356\n",
      "Valid auPRC: 0.793707\n",
      "Test accuracy: 0.733000\n",
      "Test auROC: 0.926989\n",
      "Test auPRC: 0.801268\n"
     ]
    },
    {
     "name": "stderr",
     "output_type": "stream",
     "text": [
      "Epochs:  67%|██████▋   | 200/300 [43:25<21:46, 13.06s/it, recon=0.647, latent=0.035, clf=0.700, perplexity=170.908]"
     ]
    },
    {
     "name": "stdout",
     "output_type": "stream",
     "text": [
      "Train accuracy: 0.762500\n",
      "Train auROC: 0.944668\n",
      "Train auPRC: 0.840643\n",
      "Valid accuracy: 0.730000\n",
      "Valid auROC: 0.926558\n",
      "Valid auPRC: 0.793214\n",
      "Test accuracy: 0.727000\n",
      "Test auROC: 0.925810\n",
      "Test auPRC: 0.798537\n"
     ]
    },
    {
     "name": "stderr",
     "output_type": "stream",
     "text": [
      "Epochs:  67%|██████▋   | 201/300 [43:38<21:30, 13.03s/it, recon=0.647, latent=0.034, clf=0.702, perplexity=168.731]"
     ]
    },
    {
     "name": "stdout",
     "output_type": "stream",
     "text": [
      "Train accuracy: 0.762891\n",
      "Train auROC: 0.944696\n",
      "Train auPRC: 0.840670\n",
      "Valid accuracy: 0.732000\n",
      "Valid auROC: 0.927763\n",
      "Valid auPRC: 0.795824\n",
      "Test accuracy: 0.725000\n",
      "Test auROC: 0.926166\n",
      "Test auPRC: 0.799423\n"
     ]
    },
    {
     "name": "stderr",
     "output_type": "stream",
     "text": [
      "Epochs:  67%|██████▋   | 202/300 [43:51<21:16, 13.03s/it, recon=0.647, latent=0.035, clf=0.704, perplexity=171.015]"
     ]
    },
    {
     "name": "stdout",
     "output_type": "stream",
     "text": [
      "Train accuracy: 0.759831\n",
      "Train auROC: 0.944220\n",
      "Train auPRC: 0.838973\n",
      "Valid accuracy: 0.741000\n",
      "Valid auROC: 0.927779\n",
      "Valid auPRC: 0.795135\n",
      "Test accuracy: 0.735000\n",
      "Test auROC: 0.927698\n",
      "Test auPRC: 0.804228\n"
     ]
    },
    {
     "name": "stderr",
     "output_type": "stream",
     "text": [
      "Epochs:  68%|██████▊   | 203/300 [44:04<21:05, 13.05s/it, recon=0.647, latent=0.035, clf=0.696, perplexity=169.821]"
     ]
    },
    {
     "name": "stdout",
     "output_type": "stream",
     "text": [
      "Train accuracy: 0.760612\n",
      "Train auROC: 0.945607\n",
      "Train auPRC: 0.841079\n",
      "Valid accuracy: 0.731000\n",
      "Valid auROC: 0.927067\n",
      "Valid auPRC: 0.792609\n",
      "Test accuracy: 0.730000\n",
      "Test auROC: 0.927758\n",
      "Test auPRC: 0.802674\n"
     ]
    },
    {
     "name": "stderr",
     "output_type": "stream",
     "text": [
      "Epochs:  68%|██████▊   | 204/300 [44:18<20:59, 13.12s/it, recon=0.647, latent=0.035, clf=0.697, perplexity=169.195]"
     ]
    },
    {
     "name": "stdout",
     "output_type": "stream",
     "text": [
      "Train accuracy: 0.763867\n",
      "Train auROC: 0.945347\n",
      "Train auPRC: 0.840685\n",
      "Valid accuracy: 0.731000\n",
      "Valid auROC: 0.927431\n",
      "Valid auPRC: 0.794037\n",
      "Test accuracy: 0.725000\n",
      "Test auROC: 0.927295\n",
      "Test auPRC: 0.801083\n"
     ]
    },
    {
     "name": "stderr",
     "output_type": "stream",
     "text": [
      "\r",
      "Epochs:  68%|██████▊   | 204/300 [44:28<20:59, 13.12s/it, recon=0.646, latent=0.035, clf=0.709, perplexity=169.370]"
     ]
    },
    {
     "name": "stdout",
     "output_type": "stream",
     "text": [
      "Train accuracy: 0.762565\n",
      "Train auROC: 0.943290\n",
      "Train auPRC: 0.835722\n",
      "Valid accuracy: 0.738000\n",
      "Valid auROC: 0.929225\n",
      "Valid auPRC: 0.797411\n",
      "Test accuracy: 0.725000\n",
      "Test auROC: 0.927425\n",
      "Test auPRC: 0.802172\n"
     ]
    },
    {
     "name": "stderr",
     "output_type": "stream",
     "text": [
      "Epochs:  69%|██████▊   | 206/300 [44:44<20:37, 13.16s/it, recon=0.647, latent=0.035, clf=0.693, perplexity=168.517]"
     ]
    },
    {
     "name": "stdout",
     "output_type": "stream",
     "text": [
      "Train accuracy: 0.763021\n",
      "Train auROC: 0.945805\n",
      "Train auPRC: 0.842194\n",
      "Valid accuracy: 0.731000\n",
      "Valid auROC: 0.928411\n",
      "Valid auPRC: 0.796270\n",
      "Test accuracy: 0.726000\n",
      "Test auROC: 0.927209\n",
      "Test auPRC: 0.801488\n"
     ]
    },
    {
     "name": "stderr",
     "output_type": "stream",
     "text": [
      "Epochs:  69%|██████▉   | 207/300 [44:57<20:19, 13.11s/it, recon=0.646, latent=0.036, clf=0.695, perplexity=170.170]"
     ]
    },
    {
     "name": "stdout",
     "output_type": "stream",
     "text": [
      "Train accuracy: 0.762240\n",
      "Train auROC: 0.945663\n",
      "Train auPRC: 0.840875\n",
      "Valid accuracy: 0.734000\n",
      "Valid auROC: 0.928001\n",
      "Valid auPRC: 0.796084\n",
      "Test accuracy: 0.729000\n",
      "Test auROC: 0.926934\n",
      "Test auPRC: 0.800609\n"
     ]
    },
    {
     "name": "stderr",
     "output_type": "stream",
     "text": [
      "Epochs:  69%|██████▉   | 208/300 [45:10<20:04, 13.09s/it, recon=0.645, latent=0.035, clf=0.693, perplexity=169.097]"
     ]
    },
    {
     "name": "stdout",
     "output_type": "stream",
     "text": [
      "Train accuracy: 0.763932\n",
      "Train auROC: 0.945857\n",
      "Train auPRC: 0.841920\n",
      "Valid accuracy: 0.734000\n",
      "Valid auROC: 0.927148\n",
      "Valid auPRC: 0.795416\n",
      "Test accuracy: 0.730000\n",
      "Test auROC: 0.926577\n",
      "Test auPRC: 0.799200\n"
     ]
    },
    {
     "name": "stderr",
     "output_type": "stream",
     "text": [
      "Epochs:  70%|██████▉   | 209/300 [45:23<19:48, 13.06s/it, recon=0.645, latent=0.035, clf=0.699, perplexity=167.455]"
     ]
    },
    {
     "name": "stdout",
     "output_type": "stream",
     "text": [
      "Train accuracy: 0.762240\n",
      "Train auROC: 0.944826\n",
      "Train auPRC: 0.840883\n",
      "Valid accuracy: 0.736000\n",
      "Valid auROC: 0.927525\n",
      "Valid auPRC: 0.796584\n",
      "Test accuracy: 0.732000\n",
      "Test auROC: 0.927094\n",
      "Test auPRC: 0.800970\n"
     ]
    },
    {
     "name": "stderr",
     "output_type": "stream",
     "text": [
      "\r",
      "Epochs:  70%|██████▉   | 209/300 [45:34<19:48, 13.06s/it, recon=0.644, latent=0.035, clf=0.695, perplexity=168.261]"
     ]
    },
    {
     "name": "stdout",
     "output_type": "stream",
     "text": [
      "Train accuracy: 0.763932\n",
      "Train auROC: 0.945663\n",
      "Train auPRC: 0.841913\n",
      "Valid accuracy: 0.739000\n",
      "Valid auROC: 0.927166\n",
      "Valid auPRC: 0.795856\n",
      "Test accuracy: 0.731000\n",
      "Test auROC: 0.926381\n"
     ]
    },
    {
     "name": "stderr",
     "output_type": "stream",
     "text": [
      "\r",
      "Epochs:  70%|███████   | 210/300 [45:36<19:44, 13.16s/it, recon=0.644, latent=0.035, clf=0.695, perplexity=168.261]"
     ]
    },
    {
     "name": "stdout",
     "output_type": "stream",
     "text": [
      "Test auPRC: 0.800151\n"
     ]
    },
    {
     "name": "stderr",
     "output_type": "stream",
     "text": [
      "Epochs:  70%|███████   | 211/300 [45:50<19:32, 13.18s/it, recon=0.645, latent=0.036, clf=0.691, perplexity=169.858]"
     ]
    },
    {
     "name": "stdout",
     "output_type": "stream",
     "text": [
      "Train accuracy: 0.763346\n",
      "Train auROC: 0.946301\n",
      "Train auPRC: 0.841929\n",
      "Valid accuracy: 0.738000\n",
      "Valid auROC: 0.927366\n",
      "Valid auPRC: 0.793800\n",
      "Test accuracy: 0.723000\n",
      "Test auROC: 0.927665\n",
      "Test auPRC: 0.802244\n"
     ]
    },
    {
     "name": "stderr",
     "output_type": "stream",
     "text": [
      "Epochs:  71%|███████   | 212/300 [46:03<19:15, 13.13s/it, recon=0.645, latent=0.036, clf=0.691, perplexity=168.408]"
     ]
    },
    {
     "name": "stdout",
     "output_type": "stream",
     "text": [
      "Train accuracy: 0.767839\n",
      "Train auROC: 0.946323\n",
      "Train auPRC: 0.844275\n",
      "Valid accuracy: 0.738000\n",
      "Valid auROC: 0.928000\n",
      "Valid auPRC: 0.795434\n",
      "Test accuracy: 0.738000\n",
      "Test auROC: 0.928070\n",
      "Test auPRC: 0.804528\n"
     ]
    },
    {
     "name": "stderr",
     "output_type": "stream",
     "text": [
      "Epochs:  71%|███████   | 213/300 [46:16<18:59, 13.10s/it, recon=0.644, latent=0.036, clf=0.685, perplexity=169.439]"
     ]
    },
    {
     "name": "stdout",
     "output_type": "stream",
     "text": [
      "Train accuracy: 0.767318\n",
      "Train auROC: 0.947024\n",
      "Train auPRC: 0.845431\n",
      "Valid accuracy: 0.737000\n",
      "Valid auROC: 0.927282\n",
      "Valid auPRC: 0.795018\n",
      "Test accuracy: 0.729000\n",
      "Test auROC: 0.926666\n",
      "Test auPRC: 0.801333\n"
     ]
    },
    {
     "name": "stderr",
     "output_type": "stream",
     "text": [
      "\r",
      "Epochs:  71%|███████   | 213/300 [46:26<18:59, 13.10s/it, recon=0.644, latent=0.036, clf=0.684, perplexity=168.634]"
     ]
    },
    {
     "name": "stdout",
     "output_type": "stream",
     "text": [
      "Train accuracy: 0.771615\n",
      "Train auROC: 0.947645\n",
      "Train auPRC: 0.846875\n",
      "Valid accuracy: 0.740000\n",
      "Valid auROC: 0.929189\n",
      "Valid auPRC: 0.797456\n",
      "Test accuracy: 0.731000\n",
      "Test auROC: 0.928779\n",
      "Test auPRC: 0.806133\n"
     ]
    },
    {
     "name": "stderr",
     "output_type": "stream",
     "text": [
      "Epochs:  72%|███████▏  | 215/300 [46:42<18:35, 13.12s/it, recon=0.645, latent=0.037, clf=0.686, perplexity=169.352]"
     ]
    },
    {
     "name": "stdout",
     "output_type": "stream",
     "text": [
      "Train accuracy: 0.769336\n",
      "Train auROC: 0.947281\n",
      "Train auPRC: 0.845788\n",
      "Valid accuracy: 0.740000\n",
      "Valid auROC: 0.928244\n",
      "Valid auPRC: 0.795669\n",
      "Test accuracy: 0.725000\n",
      "Test auROC: 0.927456\n",
      "Test auPRC: 0.802381\n"
     ]
    },
    {
     "name": "stderr",
     "output_type": "stream",
     "text": [
      "Epochs:  72%|███████▏  | 216/300 [46:55<18:27, 13.18s/it, recon=0.644, latent=0.038, clf=0.685, perplexity=170.027]"
     ]
    },
    {
     "name": "stdout",
     "output_type": "stream",
     "text": [
      "Train accuracy: 0.765169\n",
      "Train auROC: 0.947071\n",
      "Train auPRC: 0.845197\n",
      "Valid accuracy: 0.740000\n",
      "Valid auROC: 0.927875\n",
      "Valid auPRC: 0.795692\n",
      "Test accuracy: 0.730000\n",
      "Test auROC: 0.927553\n",
      "Test auPRC: 0.802775\n"
     ]
    },
    {
     "name": "stderr",
     "output_type": "stream",
     "text": [
      "Epochs:  72%|███████▏  | 217/300 [47:09<18:15, 13.20s/it, recon=0.644, latent=0.037, clf=0.679, perplexity=169.021]"
     ]
    },
    {
     "name": "stdout",
     "output_type": "stream",
     "text": [
      "Train accuracy: 0.768750\n",
      "Train auROC: 0.948150\n",
      "Train auPRC: 0.846172\n",
      "Valid accuracy: 0.738000\n",
      "Valid auROC: 0.927793\n",
      "Valid auPRC: 0.795394\n",
      "Test accuracy: 0.731000\n",
      "Test auROC: 0.927357\n",
      "Test auPRC: 0.802742\n"
     ]
    },
    {
     "name": "stderr",
     "output_type": "stream",
     "text": [
      "Epochs:  73%|███████▎  | 218/300 [47:22<17:57, 13.14s/it, recon=0.644, latent=0.038, clf=0.676, perplexity=170.252]"
     ]
    },
    {
     "name": "stdout",
     "output_type": "stream",
     "text": [
      "Train accuracy: 0.768815\n",
      "Train auROC: 0.948559\n",
      "Train auPRC: 0.850237\n",
      "Valid accuracy: 0.740000\n",
      "Valid auROC: 0.928715\n",
      "Valid auPRC: 0.796643\n",
      "Test accuracy: 0.727000\n",
      "Test auROC: 0.928069\n",
      "Test auPRC: 0.805629\n"
     ]
    },
    {
     "name": "stderr",
     "output_type": "stream",
     "text": [
      "Epochs:  73%|███████▎  | 219/300 [47:35<17:42, 13.12s/it, recon=0.644, latent=0.039, clf=0.674, perplexity=171.697]"
     ]
    },
    {
     "name": "stdout",
     "output_type": "stream",
     "text": [
      "Train accuracy: 0.771354\n",
      "Train auROC: 0.948777\n",
      "Train auPRC: 0.850553\n",
      "Valid accuracy: 0.731000\n",
      "Valid auROC: 0.927365\n",
      "Valid auPRC: 0.794643\n",
      "Test accuracy: 0.722000\n",
      "Test auROC: 0.927466\n",
      "Test auPRC: 0.802510\n"
     ]
    },
    {
     "name": "stderr",
     "output_type": "stream",
     "text": [
      "Epochs:  73%|███████▎  | 220/300 [47:48<17:28, 13.11s/it, recon=0.643, latent=0.038, clf=0.684, perplexity=169.508]"
     ]
    },
    {
     "name": "stdout",
     "output_type": "stream",
     "text": [
      "Train accuracy: 0.767122\n",
      "Train auROC: 0.947172\n",
      "Train auPRC: 0.845690\n",
      "Valid accuracy: 0.731000\n",
      "Valid auROC: 0.928305\n",
      "Valid auPRC: 0.796745\n",
      "Test accuracy: 0.735000\n",
      "Test auROC: 0.927826\n",
      "Test auPRC: 0.804132\n"
     ]
    },
    {
     "name": "stderr",
     "output_type": "stream",
     "text": [
      "\r",
      "Epochs:  73%|███████▎  | 220/300 [47:58<17:28, 13.11s/it, recon=0.643, latent=0.038, clf=0.677, perplexity=169.832]"
     ]
    },
    {
     "name": "stdout",
     "output_type": "stream",
     "text": [
      "Train accuracy: 0.769987\n",
      "Train auROC: 0.948486\n",
      "Train auPRC: 0.848667\n",
      "Valid accuracy: 0.743000\n",
      "Valid auROC: 0.928476\n",
      "Valid auPRC: 0.798580\n",
      "Test accuracy: 0.737000\n",
      "Test auROC: 0.929209\n",
      "Test auPRC: 0.806467\n"
     ]
    },
    {
     "name": "stderr",
     "output_type": "stream",
     "text": [
      "Epochs:  74%|███████▍  | 222/300 [48:14<17:09, 13.20s/it, recon=0.642, latent=0.039, clf=0.671, perplexity=170.067]"
     ]
    },
    {
     "name": "stdout",
     "output_type": "stream",
     "text": [
      "Train accuracy: 0.771224\n",
      "Train auROC: 0.949079\n",
      "Train auPRC: 0.850070\n",
      "Valid accuracy: 0.736000\n",
      "Valid auROC: 0.927061\n",
      "Valid auPRC: 0.794503\n",
      "Test accuracy: 0.716000\n",
      "Test auROC: 0.926804\n",
      "Test auPRC: 0.801699\n"
     ]
    },
    {
     "name": "stderr",
     "output_type": "stream",
     "text": [
      "Epochs:  74%|███████▍  | 223/300 [48:28<16:54, 13.18s/it, recon=0.642, latent=0.039, clf=0.676, perplexity=168.827]"
     ]
    },
    {
     "name": "stdout",
     "output_type": "stream",
     "text": [
      "Train accuracy: 0.770443\n",
      "Train auROC: 0.948509\n",
      "Train auPRC: 0.849219\n",
      "Valid accuracy: 0.747000\n",
      "Valid auROC: 0.928235\n",
      "Valid auPRC: 0.797558\n",
      "Test accuracy: 0.731000\n",
      "Test auROC: 0.928194\n",
      "Test auPRC: 0.803210\n"
     ]
    },
    {
     "name": "stderr",
     "output_type": "stream",
     "text": [
      "Epochs:  75%|███████▍  | 224/300 [48:40<16:36, 13.12s/it, recon=0.642, latent=0.039, clf=0.680, perplexity=169.022]"
     ]
    },
    {
     "name": "stdout",
     "output_type": "stream",
     "text": [
      "Train accuracy: 0.768880\n",
      "Train auROC: 0.947712\n",
      "Train auPRC: 0.847560\n",
      "Valid accuracy: 0.743000\n",
      "Valid auROC: 0.928712\n",
      "Valid auPRC: 0.798152\n",
      "Test accuracy: 0.731000\n",
      "Test auROC: 0.927843\n",
      "Test auPRC: 0.804751\n"
     ]
    },
    {
     "name": "stderr",
     "output_type": "stream",
     "text": [
      "\r",
      "Epochs:  75%|███████▍  | 224/300 [48:51<16:36, 13.12s/it, recon=0.642, latent=0.039, clf=0.671, perplexity=169.599]"
     ]
    },
    {
     "name": "stdout",
     "output_type": "stream",
     "text": [
      "Train accuracy: 0.772721\n",
      "Train auROC: 0.949466\n",
      "Train auPRC: 0.852306\n",
      "Valid accuracy: 0.740000\n",
      "Valid auROC: 0.928865\n",
      "Valid auPRC: 0.799206\n",
      "Test accuracy: 0.732000\n",
      "Test auROC: 0.928451\n",
      "Test auPRC: 0.803885\n"
     ]
    },
    {
     "name": "stderr",
     "output_type": "stream",
     "text": [
      "Epochs:  75%|███████▌  | 226/300 [49:07<16:09, 13.10s/it, recon=0.642, latent=0.041, clf=0.667, perplexity=172.383]"
     ]
    },
    {
     "name": "stdout",
     "output_type": "stream",
     "text": [
      "Train accuracy: 0.775521\n",
      "Train auROC: 0.950065\n",
      "Train auPRC: 0.853239\n",
      "Valid accuracy: 0.743000\n",
      "Valid auROC: 0.927908\n",
      "Valid auPRC: 0.798793\n",
      "Test accuracy: 0.728000\n",
      "Test auROC: 0.927351\n",
      "Test auPRC: 0.802271\n"
     ]
    },
    {
     "name": "stderr",
     "output_type": "stream",
     "text": [
      "Epochs:  76%|███████▌  | 227/300 [49:20<15:54, 13.07s/it, recon=0.642, latent=0.040, clf=0.666, perplexity=170.786]"
     ]
    },
    {
     "name": "stdout",
     "output_type": "stream",
     "text": [
      "Train accuracy: 0.775911\n",
      "Train auROC: 0.950215\n",
      "Train auPRC: 0.853067\n",
      "Valid accuracy: 0.739000\n",
      "Valid auROC: 0.928286\n",
      "Valid auPRC: 0.798198\n",
      "Test accuracy: 0.725000\n",
      "Test auROC: 0.927759\n",
      "Test auPRC: 0.802852\n"
     ]
    },
    {
     "name": "stderr",
     "output_type": "stream",
     "text": [
      "Epochs:  76%|███████▌  | 228/300 [49:33<15:43, 13.11s/it, recon=0.642, latent=0.041, clf=0.669, perplexity=171.951]"
     ]
    },
    {
     "name": "stdout",
     "output_type": "stream",
     "text": [
      "Train accuracy: 0.771094\n",
      "Train auROC: 0.949524\n",
      "Train auPRC: 0.851049\n",
      "Valid accuracy: 0.734000\n",
      "Valid auROC: 0.929006\n",
      "Valid auPRC: 0.798258\n",
      "Test accuracy: 0.731000\n",
      "Test auROC: 0.928084\n",
      "Test auPRC: 0.803467\n"
     ]
    },
    {
     "name": "stderr",
     "output_type": "stream",
     "text": [
      "Epochs:  76%|███████▋  | 229/300 [49:46<15:30, 13.11s/it, recon=0.642, latent=0.039, clf=0.668, perplexity=167.531]"
     ]
    },
    {
     "name": "stdout",
     "output_type": "stream",
     "text": [
      "Train accuracy: 0.772331\n",
      "Train auROC: 0.950034\n",
      "Train auPRC: 0.852058\n",
      "Valid accuracy: 0.738000\n",
      "Valid auROC: 0.927390\n",
      "Valid auPRC: 0.795619\n",
      "Test accuracy: 0.724000\n",
      "Test auROC: 0.926297\n",
      "Test auPRC: 0.800261\n"
     ]
    },
    {
     "name": "stderr",
     "output_type": "stream",
     "text": [
      "\r",
      "Epochs:  76%|███████▋  | 229/300 [49:57<15:30, 13.11s/it, recon=0.641, latent=0.040, clf=0.668, perplexity=169.153]"
     ]
    },
    {
     "name": "stdout",
     "output_type": "stream",
     "text": [
      "Train accuracy: 0.773047\n",
      "Train auROC: 0.949824\n",
      "Train auPRC: 0.852614\n",
      "Valid accuracy: 0.746000\n",
      "Valid auROC: 0.928461\n",
      "Valid auPRC: 0.799455\n",
      "Test accuracy: 0.729000\n",
      "Test auROC: 0.928800\n",
      "Test auPRC: 0.805052\n"
     ]
    },
    {
     "name": "stderr",
     "output_type": "stream",
     "text": [
      "Epochs:  77%|███████▋  | 231/300 [50:12<15:04, 13.11s/it, recon=0.641, latent=0.041, clf=0.663, perplexity=170.133]"
     ]
    },
    {
     "name": "stdout",
     "output_type": "stream",
     "text": [
      "Train accuracy: 0.771419\n",
      "Train auROC: 0.950500\n",
      "Train auPRC: 0.853657\n",
      "Valid accuracy: 0.738000\n",
      "Valid auROC: 0.928022\n",
      "Valid auPRC: 0.798302\n",
      "Test accuracy: 0.728000\n",
      "Test auROC: 0.927405\n",
      "Test auPRC: 0.801258\n"
     ]
    },
    {
     "name": "stderr",
     "output_type": "stream",
     "text": [
      "Epochs:  77%|███████▋  | 232/300 [50:25<14:49, 13.08s/it, recon=0.641, latent=0.042, clf=0.661, perplexity=170.944]"
     ]
    },
    {
     "name": "stdout",
     "output_type": "stream",
     "text": [
      "Train accuracy: 0.777799\n",
      "Train auROC: 0.950639\n",
      "Train auPRC: 0.854404\n",
      "Valid accuracy: 0.732000\n",
      "Valid auROC: 0.927810\n",
      "Valid auPRC: 0.797451\n",
      "Test accuracy: 0.728000\n",
      "Test auROC: 0.927790\n",
      "Test auPRC: 0.802882\n"
     ]
    },
    {
     "name": "stderr",
     "output_type": "stream",
     "text": [
      "Epochs:  78%|███████▊  | 233/300 [50:38<14:35, 13.06s/it, recon=0.642, latent=0.043, clf=0.657, perplexity=173.026]"
     ]
    },
    {
     "name": "stdout",
     "output_type": "stream",
     "text": [
      "Train accuracy: 0.778190\n",
      "Train auROC: 0.951470\n",
      "Train auPRC: 0.856680\n",
      "Valid accuracy: 0.741000\n",
      "Valid auROC: 0.928322\n",
      "Valid auPRC: 0.798712\n",
      "Test accuracy: 0.730000\n",
      "Test auROC: 0.927976\n",
      "Test auPRC: 0.803064\n"
     ]
    },
    {
     "name": "stderr",
     "output_type": "stream",
     "text": [
      "Epochs:  78%|███████▊  | 234/300 [50:52<14:26, 13.14s/it, recon=0.641, latent=0.042, clf=0.664, perplexity=169.886]"
     ]
    },
    {
     "name": "stdout",
     "output_type": "stream",
     "text": [
      "Train accuracy: 0.774609\n",
      "Train auROC: 0.950330\n",
      "Train auPRC: 0.853821\n",
      "Valid accuracy: 0.745000\n",
      "Valid auROC: 0.928711\n",
      "Valid auPRC: 0.798451\n",
      "Test accuracy: 0.722000\n",
      "Test auROC: 0.926969\n",
      "Test auPRC: 0.799824\n"
     ]
    },
    {
     "name": "stderr",
     "output_type": "stream",
     "text": [
      "Epochs:  78%|███████▊  | 235/300 [51:05<14:13, 13.13s/it, recon=0.641, latent=0.042, clf=0.660, perplexity=170.190]"
     ]
    },
    {
     "name": "stdout",
     "output_type": "stream",
     "text": [
      "Train accuracy: 0.777279\n",
      "Train auROC: 0.951006\n",
      "Train auPRC: 0.854822\n",
      "Valid accuracy: 0.742000\n",
      "Valid auROC: 0.928249\n",
      "Valid auPRC: 0.797944\n",
      "Test accuracy: 0.719000\n",
      "Test auROC: 0.927626\n",
      "Test auPRC: 0.802373\n"
     ]
    },
    {
     "name": "stderr",
     "output_type": "stream",
     "text": [
      "Epochs:  79%|███████▊  | 236/300 [51:18<13:55, 13.06s/it, recon=0.641, latent=0.043, clf=0.656, perplexity=170.982]"
     ]
    },
    {
     "name": "stdout",
     "output_type": "stream",
     "text": [
      "Train accuracy: 0.777214\n",
      "Train auROC: 0.951376\n",
      "Train auPRC: 0.857761\n",
      "Valid accuracy: 0.745000\n",
      "Valid auROC: 0.928890\n",
      "Valid auPRC: 0.799071\n",
      "Test accuracy: 0.729000\n",
      "Test auROC: 0.928017\n",
      "Test auPRC: 0.803441\n"
     ]
    },
    {
     "name": "stderr",
     "output_type": "stream",
     "text": [
      "Epochs:  79%|███████▉  | 237/300 [51:31<13:41, 13.03s/it, recon=0.640, latent=0.043, clf=0.656, perplexity=171.520]"
     ]
    },
    {
     "name": "stdout",
     "output_type": "stream",
     "text": [
      "Train accuracy: 0.774870\n",
      "Train auROC: 0.951119\n",
      "Train auPRC: 0.854755\n",
      "Valid accuracy: 0.739000\n",
      "Valid auROC: 0.927489\n",
      "Valid auPRC: 0.797714\n",
      "Test accuracy: 0.722000\n",
      "Test auROC: 0.927401\n",
      "Test auPRC: 0.801839\n"
     ]
    },
    {
     "name": "stderr",
     "output_type": "stream",
     "text": [
      "Epochs:  79%|███████▉  | 238/300 [51:44<13:29, 13.06s/it, recon=0.640, latent=0.043, clf=0.653, perplexity=170.724]"
     ]
    },
    {
     "name": "stdout",
     "output_type": "stream",
     "text": [
      "Train accuracy: 0.777214\n",
      "Train auROC: 0.951956\n",
      "Train auPRC: 0.858611\n",
      "Valid accuracy: 0.743000\n",
      "Valid auROC: 0.929392\n",
      "Valid auPRC: 0.798840\n",
      "Test accuracy: 0.736000\n",
      "Test auROC: 0.928221\n",
      "Test auPRC: 0.804451\n"
     ]
    },
    {
     "name": "stderr",
     "output_type": "stream",
     "text": [
      "Epochs:  80%|███████▉  | 239/300 [51:57<13:16, 13.06s/it, recon=0.640, latent=0.044, clf=0.658, perplexity=171.130]"
     ]
    },
    {
     "name": "stdout",
     "output_type": "stream",
     "text": [
      "Train accuracy: 0.777604\n",
      "Train auROC: 0.951379\n",
      "Train auPRC: 0.857291\n",
      "Valid accuracy: 0.742000\n",
      "Valid auROC: 0.928644\n",
      "Valid auPRC: 0.799447\n",
      "Test accuracy: 0.726000\n",
      "Test auROC: 0.927619\n",
      "Test auPRC: 0.802806\n"
     ]
    },
    {
     "name": "stderr",
     "output_type": "stream",
     "text": [
      "Epochs:  80%|████████  | 240/300 [52:10<13:06, 13.11s/it, recon=0.640, latent=0.044, clf=0.655, perplexity=170.809]"
     ]
    },
    {
     "name": "stdout",
     "output_type": "stream",
     "text": [
      "Train accuracy: 0.775130\n",
      "Train auROC: 0.951506\n",
      "Train auPRC: 0.856995\n",
      "Valid accuracy: 0.744000\n",
      "Valid auROC: 0.928003\n",
      "Valid auPRC: 0.798349\n",
      "Test accuracy: 0.724000\n",
      "Test auROC: 0.927294\n",
      "Test auPRC: 0.802159\n"
     ]
    },
    {
     "name": "stderr",
     "output_type": "stream",
     "text": [
      "Epochs:  80%|████████  | 241/300 [52:23<12:53, 13.10s/it, recon=0.640, latent=0.043, clf=0.653, perplexity=169.723]"
     ]
    },
    {
     "name": "stdout",
     "output_type": "stream",
     "text": [
      "Train accuracy: 0.774870\n",
      "Train auROC: 0.951757\n",
      "Train auPRC: 0.856641\n",
      "Valid accuracy: 0.742000\n",
      "Valid auROC: 0.928375\n",
      "Valid auPRC: 0.799189\n",
      "Test accuracy: 0.732000\n",
      "Test auROC: 0.927863\n",
      "Test auPRC: 0.803743\n"
     ]
    },
    {
     "name": "stderr",
     "output_type": "stream",
     "text": [
      "Epochs:  81%|████████  | 242/300 [52:36<12:42, 13.15s/it, recon=0.640, latent=0.044, clf=0.645, perplexity=169.256]"
     ]
    },
    {
     "name": "stdout",
     "output_type": "stream",
     "text": [
      "Train accuracy: 0.780990\n",
      "Train auROC: 0.953359\n",
      "Train auPRC: 0.862802\n",
      "Valid accuracy: 0.738000\n",
      "Valid auROC: 0.927810\n",
      "Valid auPRC: 0.797439\n",
      "Test accuracy: 0.725000\n",
      "Test auROC: 0.927485\n",
      "Test auPRC: 0.802991\n"
     ]
    },
    {
     "name": "stderr",
     "output_type": "stream",
     "text": [
      "Epochs:  81%|████████  | 243/300 [52:49<12:26, 13.10s/it, recon=0.639, latent=0.045, clf=0.646, perplexity=170.967]"
     ]
    },
    {
     "name": "stdout",
     "output_type": "stream",
     "text": [
      "Train accuracy: 0.780664\n",
      "Train auROC: 0.953353\n",
      "Train auPRC: 0.860970\n",
      "Valid accuracy: 0.745000\n",
      "Valid auROC: 0.928069\n",
      "Valid auPRC: 0.798334\n",
      "Test accuracy: 0.726000\n",
      "Test auROC: 0.927543\n",
      "Test auPRC: 0.803555\n"
     ]
    },
    {
     "name": "stderr",
     "output_type": "stream",
     "text": [
      "Epochs:  81%|████████▏ | 244/300 [53:02<12:11, 13.07s/it, recon=0.639, latent=0.045, clf=0.650, perplexity=170.911]"
     ]
    },
    {
     "name": "stdout",
     "output_type": "stream",
     "text": [
      "Train accuracy: 0.777669\n",
      "Train auROC: 0.952239\n",
      "Train auPRC: 0.858200\n",
      "Valid accuracy: 0.742000\n",
      "Valid auROC: 0.928774\n",
      "Valid auPRC: 0.798696\n",
      "Test accuracy: 0.725000\n",
      "Test auROC: 0.927032\n",
      "Test auPRC: 0.802023\n"
     ]
    },
    {
     "name": "stderr",
     "output_type": "stream",
     "text": [
      "\r",
      "Epochs:  81%|████████▏ | 244/300 [53:13<12:11, 13.07s/it, recon=0.639, latent=0.046, clf=0.645, perplexity=172.263]"
     ]
    },
    {
     "name": "stdout",
     "output_type": "stream",
     "text": [
      "Train accuracy: 0.779557\n",
      "Train auROC: 0.953033\n",
      "Train auPRC: 0.860870\n",
      "Valid accuracy: 0.742000\n",
      "Valid auROC: 0.929449\n",
      "Valid auPRC: 0.801419\n",
      "Test accuracy: 0.735000\n",
      "Test auROC: 0.928726\n",
      "Test auPRC: 0.806107\n"
     ]
    },
    {
     "name": "stderr",
     "output_type": "stream",
     "text": [
      "Epochs:  82%|████████▏ | 246/300 [53:29<11:52, 13.19s/it, recon=0.639, latent=0.047, clf=0.642, perplexity=173.100]"
     ]
    },
    {
     "name": "stdout",
     "output_type": "stream",
     "text": [
      "Train accuracy: 0.781055\n",
      "Train auROC: 0.953368\n",
      "Train auPRC: 0.861237\n",
      "Valid accuracy: 0.737000\n",
      "Valid auROC: 0.928461\n",
      "Valid auPRC: 0.798360\n",
      "Test accuracy: 0.729000\n",
      "Test auROC: 0.927496\n",
      "Test auPRC: 0.803105\n"
     ]
    },
    {
     "name": "stderr",
     "output_type": "stream",
     "text": [
      "Epochs:  82%|████████▏ | 247/300 [53:42<11:37, 13.16s/it, recon=0.638, latent=0.046, clf=0.644, perplexity=170.734]"
     ]
    },
    {
     "name": "stdout",
     "output_type": "stream",
     "text": [
      "Train accuracy: 0.782617\n",
      "Train auROC: 0.953199\n",
      "Train auPRC: 0.860701\n",
      "Valid accuracy: 0.743000\n",
      "Valid auROC: 0.928046\n",
      "Valid auPRC: 0.798185\n",
      "Test accuracy: 0.728000\n",
      "Test auROC: 0.927144\n",
      "Test auPRC: 0.803062\n"
     ]
    },
    {
     "name": "stderr",
     "output_type": "stream",
     "text": [
      "Epochs:  83%|████████▎ | 248/300 [53:55<11:22, 13.13s/it, recon=0.639, latent=0.047, clf=0.645, perplexity=171.027]"
     ]
    },
    {
     "name": "stdout",
     "output_type": "stream",
     "text": [
      "Train accuracy: 0.781641\n",
      "Train auROC: 0.953032\n",
      "Train auPRC: 0.859718\n",
      "Valid accuracy: 0.744000\n",
      "Valid auROC: 0.928638\n",
      "Valid auPRC: 0.797273\n",
      "Test accuracy: 0.725000\n",
      "Test auROC: 0.927705\n",
      "Test auPRC: 0.801850\n"
     ]
    },
    {
     "name": "stderr",
     "output_type": "stream",
     "text": [
      "Epochs:  83%|████████▎ | 249/300 [54:08<11:07, 13.09s/it, recon=0.638, latent=0.047, clf=0.630, perplexity=171.143]"
     ]
    },
    {
     "name": "stdout",
     "output_type": "stream",
     "text": [
      "Train accuracy: 0.784049\n",
      "Train auROC: 0.954995\n",
      "Train auPRC: 0.865648\n",
      "Valid accuracy: 0.747000\n",
      "Valid auROC: 0.927937\n",
      "Valid auPRC: 0.797534\n",
      "Test accuracy: 0.726000\n",
      "Test auROC: 0.926791\n",
      "Test auPRC: 0.801486\n"
     ]
    },
    {
     "name": "stderr",
     "output_type": "stream",
     "text": [
      "Epochs:  83%|████████▎ | 250/300 [54:21<10:53, 13.07s/it, recon=0.638, latent=0.048, clf=0.641, perplexity=172.262]"
     ]
    },
    {
     "name": "stdout",
     "output_type": "stream",
     "text": [
      "Train accuracy: 0.779687\n",
      "Train auROC: 0.953795\n",
      "Train auPRC: 0.861643\n",
      "Valid accuracy: 0.738000\n",
      "Valid auROC: 0.927899\n",
      "Valid auPRC: 0.797176\n",
      "Test accuracy: 0.721000\n",
      "Test auROC: 0.926914\n",
      "Test auPRC: 0.802957\n"
     ]
    },
    {
     "name": "stderr",
     "output_type": "stream",
     "text": [
      "Epochs:  84%|████████▎ | 251/300 [54:34<10:39, 13.05s/it, recon=0.638, latent=0.048, clf=0.634, perplexity=172.241]"
     ]
    },
    {
     "name": "stdout",
     "output_type": "stream",
     "text": [
      "Train accuracy: 0.785547\n",
      "Train auROC: 0.954827\n",
      "Train auPRC: 0.865742\n",
      "Valid accuracy: 0.742000\n",
      "Valid auROC: 0.928675\n",
      "Valid auPRC: 0.798015\n",
      "Test accuracy: 0.724000\n",
      "Test auROC: 0.927497\n",
      "Test auPRC: 0.802711\n"
     ]
    },
    {
     "name": "stderr",
     "output_type": "stream",
     "text": [
      "Epochs:  84%|████████▍ | 252/300 [54:47<10:30, 13.13s/it, recon=0.637, latent=0.048, clf=0.631, perplexity=172.657]"
     ]
    },
    {
     "name": "stdout",
     "output_type": "stream",
     "text": [
      "Train accuracy: 0.786198\n",
      "Train auROC: 0.955288\n",
      "Train auPRC: 0.866045\n",
      "Valid accuracy: 0.735000\n",
      "Valid auROC: 0.927517\n",
      "Valid auPRC: 0.795231\n",
      "Test accuracy: 0.715000\n",
      "Test auROC: 0.926302\n",
      "Test auPRC: 0.800408\n"
     ]
    },
    {
     "name": "stderr",
     "output_type": "stream",
     "text": [
      "Epochs:  84%|████████▍ | 253/300 [55:00<10:15, 13.09s/it, recon=0.637, latent=0.048, clf=0.632, perplexity=170.551]"
     ]
    },
    {
     "name": "stdout",
     "output_type": "stream",
     "text": [
      "Train accuracy: 0.789193\n",
      "Train auROC: 0.954792\n",
      "Train auPRC: 0.865385\n",
      "Valid accuracy: 0.745000\n",
      "Valid auROC: 0.928541\n",
      "Valid auPRC: 0.798353\n",
      "Test accuracy: 0.729000\n",
      "Test auROC: 0.928056\n",
      "Test auPRC: 0.803989\n"
     ]
    },
    {
     "name": "stderr",
     "output_type": "stream",
     "text": [
      "Epochs:  85%|████████▍ | 254/300 [55:13<10:01, 13.08s/it, recon=0.637, latent=0.048, clf=0.629, perplexity=170.726]"
     ]
    },
    {
     "name": "stdout",
     "output_type": "stream",
     "text": [
      "Train accuracy: 0.789714\n",
      "Train auROC: 0.955412\n",
      "Train auPRC: 0.866333\n",
      "Valid accuracy: 0.745000\n",
      "Valid auROC: 0.928626\n",
      "Valid auPRC: 0.799868\n",
      "Test accuracy: 0.729000\n",
      "Test auROC: 0.928286\n",
      "Test auPRC: 0.804273\n"
     ]
    },
    {
     "name": "stderr",
     "output_type": "stream",
     "text": [
      "Epochs:  85%|████████▌ | 255/300 [55:26<09:47, 13.05s/it, recon=0.638, latent=0.048, clf=0.632, perplexity=169.290]"
     ]
    },
    {
     "name": "stdout",
     "output_type": "stream",
     "text": [
      "Train accuracy: 0.787695\n",
      "Train auROC: 0.954823\n",
      "Train auPRC: 0.864103\n",
      "Valid accuracy: 0.745000\n",
      "Valid auROC: 0.928461\n",
      "Valid auPRC: 0.798761\n",
      "Test accuracy: 0.724000\n",
      "Test auROC: 0.928017\n",
      "Test auPRC: 0.803275\n"
     ]
    },
    {
     "name": "stderr",
     "output_type": "stream",
     "text": [
      "Epochs:  85%|████████▌ | 256/300 [55:40<09:34, 13.05s/it, recon=0.637, latent=0.049, clf=0.628, perplexity=171.147]"
     ]
    },
    {
     "name": "stdout",
     "output_type": "stream",
     "text": [
      "Train accuracy: 0.787240\n",
      "Train auROC: 0.955648\n",
      "Train auPRC: 0.866707\n",
      "Valid accuracy: 0.742000\n",
      "Valid auROC: 0.928655\n",
      "Valid auPRC: 0.799195\n",
      "Test accuracy: 0.725000\n",
      "Test auROC: 0.928010\n",
      "Test auPRC: 0.804112\n"
     ]
    },
    {
     "name": "stderr",
     "output_type": "stream",
     "text": [
      "Epochs:  86%|████████▌ | 257/300 [55:53<09:20, 13.04s/it, recon=0.636, latent=0.049, clf=0.624, perplexity=171.011]"
     ]
    },
    {
     "name": "stdout",
     "output_type": "stream",
     "text": [
      "Train accuracy: 0.788477\n",
      "Train auROC: 0.956295\n",
      "Train auPRC: 0.868591\n",
      "Valid accuracy: 0.749000\n",
      "Valid auROC: 0.929930\n",
      "Valid auPRC: 0.800929\n",
      "Test accuracy: 0.736000\n",
      "Test auROC: 0.928756\n",
      "Test auPRC: 0.804577\n"
     ]
    },
    {
     "name": "stderr",
     "output_type": "stream",
     "text": [
      "Epochs:  86%|████████▌ | 258/300 [56:06<09:07, 13.04s/it, recon=0.637, latent=0.050, clf=0.631, perplexity=171.788]"
     ]
    },
    {
     "name": "stdout",
     "output_type": "stream",
     "text": [
      "Train accuracy: 0.785156\n",
      "Train auROC: 0.954844\n",
      "Train auPRC: 0.864465\n",
      "Valid accuracy: 0.742000\n",
      "Valid auROC: 0.927996\n",
      "Valid auPRC: 0.798553\n",
      "Test accuracy: 0.724000\n",
      "Test auROC: 0.928005\n",
      "Test auPRC: 0.803860\n"
     ]
    },
    {
     "name": "stderr",
     "output_type": "stream",
     "text": [
      "Epochs:  86%|████████▋ | 259/300 [56:19<08:55, 13.07s/it, recon=0.636, latent=0.049, clf=0.626, perplexity=170.331]"
     ]
    },
    {
     "name": "stdout",
     "output_type": "stream",
     "text": [
      "Train accuracy: 0.787174\n",
      "Train auROC: 0.955747\n",
      "Train auPRC: 0.866523\n",
      "Valid accuracy: 0.734000\n",
      "Valid auROC: 0.928750\n",
      "Valid auPRC: 0.797878\n",
      "Test accuracy: 0.726000\n",
      "Test auROC: 0.928039\n",
      "Test auPRC: 0.804410\n"
     ]
    },
    {
     "name": "stderr",
     "output_type": "stream",
     "text": [
      "Epochs:  87%|████████▋ | 260/300 [56:32<08:42, 13.07s/it, recon=0.636, latent=0.050, clf=0.628, perplexity=170.662]"
     ]
    },
    {
     "name": "stdout",
     "output_type": "stream",
     "text": [
      "Train accuracy: 0.790299\n",
      "Train auROC: 0.955486\n",
      "Train auPRC: 0.867087\n",
      "Valid accuracy: 0.745000\n",
      "Valid auROC: 0.929566\n",
      "Valid auPRC: 0.799826\n",
      "Test accuracy: 0.731000\n",
      "Test auROC: 0.928276\n",
      "Test auPRC: 0.804408\n"
     ]
    },
    {
     "name": "stderr",
     "output_type": "stream",
     "text": [
      "Epochs:  87%|████████▋ | 261/300 [56:45<08:30, 13.09s/it, recon=0.636, latent=0.051, clf=0.622, perplexity=171.842]"
     ]
    },
    {
     "name": "stdout",
     "output_type": "stream",
     "text": [
      "Train accuracy: 0.785221\n",
      "Train auROC: 0.956293\n",
      "Train auPRC: 0.868087\n",
      "Valid accuracy: 0.748000\n",
      "Valid auROC: 0.929680\n",
      "Valid auPRC: 0.801077\n",
      "Test accuracy: 0.727000\n",
      "Test auROC: 0.928267\n",
      "Test auPRC: 0.804242\n"
     ]
    },
    {
     "name": "stderr",
     "output_type": "stream",
     "text": [
      "Epochs:  87%|████████▋ | 262/300 [56:58<08:18, 13.11s/it, recon=0.635, latent=0.052, clf=0.614, perplexity=172.908]"
     ]
    },
    {
     "name": "stdout",
     "output_type": "stream",
     "text": [
      "Train accuracy: 0.790234\n",
      "Train auROC: 0.957600\n",
      "Train auPRC: 0.870969\n",
      "Valid accuracy: 0.741000\n",
      "Valid auROC: 0.929942\n",
      "Valid auPRC: 0.800862\n",
      "Test accuracy: 0.722000\n",
      "Test auROC: 0.928256\n",
      "Test auPRC: 0.804265\n"
     ]
    },
    {
     "name": "stderr",
     "output_type": "stream",
     "text": [
      "Epochs:  88%|████████▊ | 263/300 [57:11<08:04, 13.10s/it, recon=0.635, latent=0.052, clf=0.615, perplexity=171.081]"
     ]
    },
    {
     "name": "stdout",
     "output_type": "stream",
     "text": [
      "Train accuracy: 0.791276\n",
      "Train auROC: 0.957390\n",
      "Train auPRC: 0.870679\n",
      "Valid accuracy: 0.740000\n",
      "Valid auROC: 0.929479\n",
      "Valid auPRC: 0.799424\n",
      "Test accuracy: 0.715000\n",
      "Test auROC: 0.927239\n",
      "Test auPRC: 0.800676\n"
     ]
    },
    {
     "name": "stderr",
     "output_type": "stream",
     "text": [
      "Epochs:  88%|████████▊ | 264/300 [57:24<07:51, 13.08s/it, recon=0.635, latent=0.053, clf=0.614, perplexity=172.057]"
     ]
    },
    {
     "name": "stdout",
     "output_type": "stream",
     "text": [
      "Train accuracy: 0.793034\n",
      "Train auROC: 0.957538\n",
      "Train auPRC: 0.871515\n",
      "Valid accuracy: 0.746000\n",
      "Valid auROC: 0.929044\n",
      "Valid auPRC: 0.800437\n",
      "Test accuracy: 0.731000\n",
      "Test auROC: 0.928565\n",
      "Test auPRC: 0.804122\n"
     ]
    },
    {
     "name": "stderr",
     "output_type": "stream",
     "text": [
      "Epochs:  88%|████████▊ | 264/300 [57:37<07:51, 13.10s/it, recon=0.635, latent=0.052, clf=0.624, perplexity=171.203]"
     ]
    },
    {
     "name": "stdout",
     "output_type": "stream",
     "text": [
      "Train accuracy: 0.789062\n",
      "Train auROC: 0.956016\n",
      "Train auPRC: 0.869122\n",
      "Valid accuracy: 0.741000\n",
      "Valid auROC: 0.928714\n",
      "Valid auPRC: 0.797778\n",
      "Test accuracy: 0.723000\n",
      "Test auROC: 0.927972\n",
      "Test auPRC: 0.804514\n",
      "Early stop!\n"
     ]
    },
    {
     "name": "stderr",
     "output_type": "stream",
     "text": [
      "\n"
     ]
    }
   ],
   "source": [
    "import create\n",
    "create.main.CREATE(data_path='./example/', outdir='./example/output/')"
   ]
  },
  {
   "cell_type": "code",
   "execution_count": 3,
   "metadata": {},
   "outputs": [
    {
     "name": "stdout",
     "output_type": "stream",
     "text": [
      "[[108  38  20  19  15]\n",
      " [ 31 131  18  12   8]\n",
      " [ 11  14 163   7   5]\n",
      " [ 12  10   7 171   0]\n",
      " [ 21  14   1   2 162]]\n"
     ]
    }
   ],
   "source": [
    "from sklearn import preprocessing\n",
    "one_hot = preprocessing.OneHotEncoder(sparse=False)\n",
    "\n",
    "test_score = np.load('./example/output/best_test_score.npy')\n",
    "test_label = np.load('./example/test_labels.npy')\n",
    "test_labels = one_hot.fit_transform(test_label.reshape(len(test_label), 1))\n",
    "test_pre = [list(x).index(max(x)) for x in test_score]\n",
    "\n",
    "print(metrics.confusion_matrix(test_label, test_pre))"
   ]
  },
  {
   "cell_type": "code",
   "execution_count": 4,
   "metadata": {},
   "outputs": [
    {
     "name": "stdout",
     "output_type": "stream",
     "text": [
      "auROC=0.929\n",
      "auPRC=0.806\n",
      "accuracy=0.735\n",
      "precision=0.733\n",
      "recall=0.735\n",
      "f1_score=0.734\n"
     ]
    }
   ],
   "source": [
    "auroc = metrics.roc_auc_score(test_label, test_score, multi_class='ovr')\n",
    "auprc = metrics.average_precision_score(test_labels, test_score)\n",
    "accuracy = metrics.accuracy_score(test_label, test_pre)\n",
    "precision = metrics.precision_score(test_label, test_pre, average='macro')\n",
    "recall = metrics.recall_score(test_label, test_pre, average='macro')\n",
    "f1_score = 2*precision*recall/(precision+recall)\n",
    "print('auROC=%.3f\\nauPRC=%.3f\\naccuracy=%.3f\\nprecision=%.3f\\nrecall=%.3f\\nf1_score=%.3f'\n",
    "      % (auroc, auprc, accuracy, precision, recall, f1_score))"
   ]
  },
  {
   "cell_type": "code",
   "execution_count": 5,
   "metadata": {},
   "outputs": [],
   "source": [
    "from scipy import interp\n",
    "\n",
    "cres = ['silencer','enhancer','promoter','insulator','background']\n",
    "cls = 5\n",
    "fpr0, tpr0, roc_auc0, average_precision0, recall0, precision0 = {}, {}, {}, {}, {}, {}\n",
    "for m in range(cls):\n",
    "    fpr0[m], tpr0[m], _ = metrics.roc_curve(test_labels[:, m], test_score[:, m])\n",
    "    roc_auc0[m] = metrics.roc_auc_score(test_labels[:, m], test_score[:, m])\n",
    "    precision0[m], recall0[m], _ = metrics.precision_recall_curve(test_labels[:, m], test_score[:, m])\n",
    "    average_precision0[m] = metrics.average_precision_score(test_labels[:, m], test_score[:, m])\n",
    "all_fpr = np.linspace(0, 1, 10000)\n",
    "mean_tpr = np.zeros_like(all_fpr)\n",
    "roc1 = []\n",
    "for m in range(cls):\n",
    "    mean_tpr += interp(all_fpr, fpr0[m], tpr0[m])\n",
    "    roc1.append(metrics.roc_auc_score(test_labels[:, m], test_score[:, m]))\n",
    "mean_tpr /= cls\n",
    "fpr0[\"macro\"] = all_fpr\n",
    "tpr0[\"macro\"] = mean_tpr\n",
    "roc_auc0[\"macro\"] = np.mean(roc1)\n",
    "all_precision = np.linspace(0, 1, 10000)\n",
    "mean_recall = np.zeros_like(all_precision)\n",
    "prc1 = []\n",
    "for m in range(cls):\n",
    "    mean_recall += interp(all_precision, precision0[m], recall0[m])\n",
    "    prc1.append(metrics.average_precision_score(test_labels[:, m], test_score[:, m]))\n",
    "mean_recall /= cls\n",
    "recall0[\"macro\"] = mean_recall\n",
    "precision0[\"macro\"] = all_precision\n",
    "average_precision0[\"macro\"] = np.mean(prc1)"
   ]
  },
  {
   "cell_type": "code",
   "execution_count": 6,
   "metadata": {},
   "outputs": [
    {
     "data": {
      "image/png": "[encoded data removed]",
      "text/plain": [
       "<Figure size 1152x1152 with 2 Axes>"
      ]
     },
     "metadata": {},
     "output_type": "display_data"
    }
   ],
   "source": [
    "colors = ['#fc5a50','#75bbfd','#7570b3','#1b9e77','#d3d3d3']\n",
    "sns.set_theme(style='ticks')\n",
    "f = plt.figure(figsize=(16, 16))\n",
    "ax = f.add_subplot(2, 2, 1)\n",
    "ax.plot([0, 1], [0, 1], 'k--')\n",
    "for i in range(cls):\n",
    "    ax.plot(fpr0[i], tpr0[i], label='%s auROC=%0.3f' % (cres[i], roc_auc0[i]), color=colors[i])\n",
    "ax.plot(fpr0[\"macro\"], tpr0[\"macro\"], label='%s auROC=%0.3f' % ('macro', roc_auc0['macro']),\n",
    "        color='navy', linestyle=':', linewidth=4)\n",
    "plt.xticks(fontsize=15);plt.yticks(fontsize=15)\n",
    "ax.set_xlim([0.0, 1.0]);ax.set_ylim([0.0, 1.0])\n",
    "ax.set_xlabel('False Positive Rate', fontsize=18)\n",
    "ax.set_ylabel('True Positive Rate', fontsize=18)\n",
    "ax.legend(fontsize=15, frameon=False)\n",
    "ax.set_title('ROC curve', fontsize=18)\n",
    "\n",
    "ax = f.add_subplot(2, 2, 2)\n",
    "ax.plot([0, 1], [1, 0], 'k--')\n",
    "for i in range(cls):\n",
    "    ax.plot(recall0[i], precision0[i], label='%s auPRC=%0.3f' % (cres[i], average_precision0[i]), color=colors[i])\n",
    "ax.plot(recall0[\"macro\"], precision0[\"macro\"], label='%s auPRC=%0.3f' % ('macro', average_precision0['macro']),\n",
    "        color='navy', linestyle=':', linewidth=4)\n",
    "plt.xticks(fontsize=15);plt.yticks(fontsize=15)\n",
    "ax.set_xlim([0.0, 1.0]);ax.set_ylim([0.0, 1.0])\n",
    "ax.set_xlabel('Recall', fontsize=18)\n",
    "ax.set_ylabel('Precision', fontsize=18)\n",
    "ax.legend(fontsize=15, frameon=False)\n",
    "ax.set_title('PRC curve', fontsize=18)\n",
    "plt.show()"
   ]
  },
  {
   "cell_type": "code",
   "execution_count": null,
   "metadata": {},
   "outputs": [],
   "source": []
  }
 ],
 "metadata": {
  "kernelspec": {
   "display_name": "torch1.10",
   "language": "python",
   "name": "torch1.10"
  },
  "language_info": {
   "codemirror_mode": {
    "name": "ipython",
    "version": 3
   },
   "file_extension": ".py",
   "mimetype": "text/x-python",
   "name": "python",
   "nbconvert_exporter": "python",
   "pygments_lexer": "ipython3",
   "version": "3.7.12"
  }
 },
 "nbformat": 4,
 "nbformat_minor": 2
}
