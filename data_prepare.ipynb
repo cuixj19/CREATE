{
 "cells": [
  {
   "cell_type": "code",
   "execution_count": null,
   "metadata": {},
   "outputs": [],
   "source": [
    "import numpy as np\n",
    "import pandas as pd\n",
    "import gzip"
   ]
  },
  {
   "cell_type": "markdown",
   "metadata": {},
   "source": [
    "# Genome sequence"
   ]
  },
  {
   "cell_type": "code",
   "execution_count": null,
   "metadata": {},
   "outputs": [],
   "source": [
    "# bedtools getfasta -fi hg19.fa -bed test.bed -name > test.fa"
   ]
  },
  {
   "cell_type": "code",
   "execution_count": null,
   "metadata": {},
   "outputs": [],
   "source": [
    "# seq2mat\n",
    "acgt2num = {'A': 0, 'C': 1, 'G': 2, 'T': 3}\n",
    "def base2num(seq, l=1000):\n",
    "    h = 4\n",
    "    l = len(seq)\n",
    "    mat = np.zeros((h, l), dtype=int)\n",
    "    for i in range(l):\n",
    "        if seq[i] != 'N':\n",
    "            mat[acgt2num[seq[i]], i] = 1\n",
    "    return mat.reshape((h, -1))"
   ]
  },
  {
   "cell_type": "code",
   "execution_count": null,
   "metadata": {},
   "outputs": [],
   "source": [
    "with open('test.fa', 'r') as f1:\n",
    "    fa1 = f1.readlines()\n",
    "ss = []\n",
    "for i in range(len(fa1)//2):\n",
    "    ss.append(fa1[2*i+1])\n",
    "ss_mats = []\n",
    "for i in range(len(ss)):\n",
    "    ss_mat = base2num(ss[i].strip().upper())\n",
    "    ss_mats.append(ss_mat)\n",
    "ss_mats = np.array(ss_mats, dtype='uint8')\n",
    "np.save('test_seqs.npy', ss_mats)"
   ]
  },
  {
   "cell_type": "markdown",
   "metadata": {},
   "source": [
    "# Openness"
   ]
  },
  {
   "cell_type": "markdown",
   "metadata": {},
   "source": [
    "To incorporate the information of chromatin accessibility, we adopted OpenAnnotate (http://159.226.47.242:65533/openness/anno/) to efficiently calculate the raw read open scores of CREs per base pair. We then derived the chromatin open score per base pair by averaging the raw read open scores across replicates for each respective cell type."
   ]
  },
  {
   "cell_type": "code",
   "execution_count": null,
   "metadata": {},
   "outputs": [],
   "source": [
    "l = 1000 #Length of sequence, eg. 1000bp\n",
    "replicates = 5 #Number of replicates\n",
    "with gzip.open('readopen.txt.gz' % (cell, cre), 'r') as f:\n",
    "    head = f.readlines()\n",
    "opens = []\n",
    "for i in range(len(head)):\n",
    "    opens.append(str(head[i], encoding = \"utf-8\").strip().split('\\t')[4:])\n",
    "openness = np.array(opens, dtype=np.float).reshape(len(opens)//l, l, replicates).transpose((0,2,1))\n",
    "openness2 = np.log10(np.mean(openness, axis=1, keepdims=True) + 1)\n",
    "np.save('test_opens.npy', openness2)"
   ]
  },
  {
   "cell_type": "markdown",
   "metadata": {},
   "source": [
    "# HiChIP"
   ]
  },
  {
   "cell_type": "markdown",
   "metadata": {},
   "source": [
    "To incorporate the information of chromatin interaction, we first calculated the number of chromatin loops per base pair for each CRE, and then obtained the chromatin loop score after logarithmic transformation."
   ]
  },
  {
   "cell_type": "code",
   "execution_count": null,
   "metadata": {},
   "outputs": [],
   "source": [
    "l = 1000 #Length of sequence, eg. 1000bp\n",
    "eps = 1e-8\n",
    "with open('test_loop.bed', 'r') as f:\n",
    "    head = f.readlines()\n",
    "hcs = []\n",
    "for i in range(len(head)):\n",
    "    hcs.append(str(head[i]).strip().split('\\t')[-1])\n",
    "hichip = np.array(hcs, dtype='uint8').reshape(len(hcs)//l, 1, l)\n",
    "hichip2 = np.log10(hichip + 1 + eps)\n",
    "np.save('test_loops.npy', hichip2)"
   ]
  },
  {
   "cell_type": "code",
   "execution_count": null,
   "metadata": {},
   "outputs": [],
   "source": []
  }
 ],
 "metadata": {
  "kernelspec": {
   "display_name": "torch1.10",
   "language": "python",
   "name": "torch1.10"
  },
  "language_info": {
   "codemirror_mode": {
    "name": "ipython",
    "version": 3
   },
   "file_extension": ".py",
   "mimetype": "text/x-python",
   "name": "python",
   "nbconvert_exporter": "python",
   "pygments_lexer": "ipython3",
   "version": "3.7.12"
  }
 },
 "nbformat": 4,
 "nbformat_minor": 2
}
